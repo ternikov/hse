{
 "cells": [
  {
   "cell_type": "markdown",
   "metadata": {},
   "source": [
    "# Individual Project\n",
    "## Fall 2022\n",
    "---\n",
    "* Provide your solutions inside special code cells.\n",
    "    * You can check your functions within magic cells that begin with `assert` function.\n",
    "    * Points for each task are provided in parentheses.\n",
    "    * Any kind of plagiarism is assessed as $0$ points for such tasks.\n",
    "    * Below you can find criteria for transfer such Points to your final grade:\n",
    "\n",
    "\n",
    "\n",
    "$\n",
    "\\begin{aligned}\n",
    "\\sum{} &\\text{of pts}  &\\text{Final Grade}\\\\\n",
    "\\hline\n",
    "0&-3& 0 \\\\ \n",
    "4&-6& 1 \\\\ \n",
    "7&-10& 2 \\\\ \n",
    "11&-15& 3\\\\\n",
    "16&-20& 4 \\\\\n",
    "21&-25& 5 \\\\\n",
    "26&-30& 6 \\\\\n",
    "31&-38& 7 \\\\\n",
    "39&-48& 8 \\\\\n",
    "49&-54& 9 \\\\\n",
    "55&-60& 10 \\\\\n",
    "\\end{aligned}\n",
    "$\n",
    "\n",
    "---"
   ]
  },
  {
   "cell_type": "code",
   "execution_count": null,
   "metadata": {},
   "outputs": [],
   "source": [
    "# ENTER YOUR NAME HERE"
   ]
  },
  {
   "cell_type": "code",
   "execution_count": null,
   "metadata": {},
   "outputs": [],
   "source": [
    "import numpy as np\n",
    "import pandas as pd\n",
    "import warnings\n",
    "warnings.filterwarnings('ignore')"
   ]
  },
  {
   "cell_type": "markdown",
   "metadata": {},
   "source": [
    "### #1 (1)\n",
    "\n",
    "Write function `is_prime(n)`, which checks `n` is prime number (returns `True`) of not (returns `False`)."
   ]
  },
  {
   "cell_type": "code",
   "execution_count": null,
   "metadata": {},
   "outputs": [],
   "source": [
    "# CODE HERE"
   ]
  },
  {
   "cell_type": "code",
   "execution_count": null,
   "metadata": {},
   "outputs": [],
   "source": [
    "assert(is_prime(2) and \n",
    "       is_prime(3) and \n",
    "       is_prime(139) and \n",
    "       is_prime(617) and \n",
    "       is_prime(293) and \n",
    "       not is_prime(12) and \n",
    "       not is_prime(13*7))"
   ]
  },
  {
   "cell_type": "markdown",
   "metadata": {},
   "source": [
    "### #2 (4)\n",
    "\n",
    "Let the ariphmetic expression contains brackets of two types: `( )`, `[ ]`. Each open bracket should be correctly closed within close brackets of the same type. \n",
    "\n",
    "Examples: \n",
    "* `5 * [1 + 2 + (3 + 4) + 5]` — correct\n",
    "* `4 + (2 + `  - incorrect\n",
    "* `[1 + (2 + 3] + 4)` - incorrect\n",
    "\n",
    "Write function `check_brackets(expr)`, which take the string input with expression. Returns `True` if `expr` is correct and `False` otherwise."
   ]
  },
  {
   "cell_type": "code",
   "execution_count": null,
   "metadata": {},
   "outputs": [],
   "source": [
    "# CODE HERE"
   ]
  },
  {
   "cell_type": "code",
   "execution_count": null,
   "metadata": {},
   "outputs": [],
   "source": [
    "assert check_brackets('5 * [1 + 2 + (3 + 4) + 5]')\n",
    "assert not check_brackets('4 + (2 + ')\n",
    "assert not check_brackets('[1 + (2 + 3] + 4)')\n",
    "assert check_brackets('[]()[][[([(([]))])]]')\n",
    "assert not check_brackets(']')\n",
    "assert not check_brackets(')')\n",
    "assert not check_brackets('[)]')\n",
    "assert not check_brackets('[)()]')\n",
    "assert not check_brackets('[)](')\n",
    "assert not check_brackets(\"[[([(]))]]\")\n",
    "assert not check_brackets('[')\n",
    "assert not check_brackets('(')\n",
    "assert not check_brackets('(' * 100 + ')' * 99)\n",
    "assert check_brackets('(' * 1000 + ')' * 1000)\n",
    "assert not check_brackets('([' + '(' * 998 + ')' * 909 + ']')"
   ]
  },
  {
   "cell_type": "markdown",
   "metadata": {},
   "source": [
    "### #3 (6)\n",
    "\n",
    "Imagine, you help the producer to choose proper shooting days. The producer asks you to choose two days in order to ensure that the temperature in such days will be not more than 5 degree different between each other (by the absolute value). You know the weather forecast for $n$ few days (the sequence of integer numbers: $t_1,t_2,\\dots,t_n$, where $i$ - the number of the days in the increasing order, $t_i$ - the temperature in the particular day). For two choosen days should be true the following: $|t_i-t_j|\\leq 5$. You know also that the producer do not want to have long pauses between these days, so, you need also to minimize the distance between two particular days.\n",
    "\n",
    "**Input**: you have the list of numbers (temperature in days, ordered by the number of the day). **Output**: write the function `mindays(list)`, that returns the minimum days of leisure (pause) in between for the producer; if no such days you can choose - return $-1$."
   ]
  },
  {
   "cell_type": "code",
   "execution_count": null,
   "metadata": {},
   "outputs": [],
   "source": [
    "# CODE HERE"
   ]
  },
  {
   "cell_type": "code",
   "execution_count": null,
   "metadata": {},
   "outputs": [],
   "source": [
    "assert mindays([4, 12, -5, 8, 14]) == 1\n",
    "assert mindays([10, 10, 10]) == 0\n",
    "assert mindays([-20, -14, -8, -2]) == -1\n",
    "assert mindays([-3, 1, -5, 8, 14]) == 0\n",
    "assert mindays([-4, 2, 8, 0]) == 1\n",
    "assert mindays([-4, 2, -5, 0]) == 0"
   ]
  },
  {
   "cell_type": "markdown",
   "metadata": {},
   "source": [
    "### #4 (2)\n",
    "\n",
    "Write the function `sort_by_last_name(names)`, which has the list of names and surnames on input (e.g., `[\"Donald Trump\", \"Hillary Clinton\", \"Gary Johnson\", \"Jill Stein\", \"Darrell Castle\", \"Evan McMullin\"]`), and returns sorted by surnames list (do not modify the order of existing pairs name-surname). For the example above, the output should be `['Darrell Castle', 'Hillary Clinton', 'Gary Johnson', 'Evan McMullin', 'Jill Stein', 'Donald Trump']`."
   ]
  },
  {
   "cell_type": "code",
   "execution_count": null,
   "metadata": {},
   "outputs": [],
   "source": [
    "# CODE HERE"
   ]
  },
  {
   "cell_type": "code",
   "execution_count": null,
   "metadata": {},
   "outputs": [],
   "source": [
    "assert sort_by_last_name([\"Donald Trump\", \"Hillary Clinton\", \"Gary Johnson\", \"Jill Stein\", \"Darrell Castle\", \"Evan McMullin\"]) == ['Darrell Castle', 'Hillary Clinton', 'Gary Johnson', 'Evan McMullin', 'Jill Stein', 'Donald Trump']\n",
    "assert sort_by_last_name([\"Aaa Aaa\", \"Aaa Bbb\", \"Bbb Aaa\"]) == [\"Aaa Aaa\", \"Bbb Aaa\", \"Aaa Bbb\"]\n",
    "assert sort_by_last_name([\"Aaa Bbb\", \"Bbb Aaa\", \"Aaa Aaa\"]) == [\"Bbb Aaa\", \"Aaa Aaa\", \"Aaa Bbb\"]\n",
    "assert sort_by_last_name([\"Alice Smith\", \"John Doe\", \"Jack Doe\"]) == [\"John Doe\", \"Jack Doe\", \"Alice Smith\"]"
   ]
  },
  {
   "cell_type": "markdown",
   "metadata": {},
   "source": [
    "### #5 (4)\n",
    "\n",
    "Write function `sort_gradebook(gradebook)`, which has on input the list in the following form: `[first_name, last_name, grade_1, grade_2, ..., grade_n, final_grade]`, where `first_name` — student's name, `last_name` — student's surname, `grade_1, ..., grade_n` — student's grades for tests from $1$ to $n$ ($n$ — total number of tests, which is the same for particular gradebook), `final_grade` — the final grade. The function should sort `gradebook` in the following way (and return it):\n",
    "\n",
    "- by final grade;\n",
    "- if previous the same — by the first test grade;\n",
    "- if previous the same — by the second test grade;\n",
    "- ...\n",
    "- if previous the same — by the $n$-th test grade;\n",
    "- if all test grades are the same — by surname;\n",
    "- if previous the same — by name.\n",
    "\n",
    "Sort grades and names in descending order; sort surnames in ascending order."
   ]
  },
  {
   "cell_type": "code",
   "execution_count": null,
   "metadata": {},
   "outputs": [],
   "source": [
    "# CODE HERE"
   ]
  },
  {
   "cell_type": "code",
   "execution_count": null,
   "metadata": {},
   "outputs": [],
   "source": [
    "from itertools import permutations\n",
    "def test_sort(inp, outp):\n",
    "    for i in permutations(inp):\n",
    "        assert sort_gradebook(list(i)) == outp, i\n",
    "\n",
    "test_sort([\n",
    "        ['Alice', 'Smith', 2, 3, 4],\n",
    "        ['John', 'Smith', 2, 3, 5]\n",
    "    ], [\n",
    "        ['John', 'Smith', 2, 3, 5],\n",
    "        ['Alice', 'Smith', 2, 3, 4]\n",
    "])\n",
    "\n",
    "test_sort([\n",
    "        ['Alice', 'Smith', 2, 3, 4],\n",
    "        ['John', 'Smith', 2, 3, 4]\n",
    "    ], [\n",
    "    ['John', 'Smith', 2, 3, 4],\n",
    "    ['Alice', 'Smith', 2, 3, 4],    \n",
    "])\n",
    "\n",
    "test_sort([\n",
    "        ['Alice', 'Smith', 1, 3, 4],\n",
    "        ['John', 'Smith', 2, 3, 4]\n",
    "        ], [\n",
    "        ['John', 'Smith', 2, 3, 4],\n",
    "        ['Alice', 'Smith', 1, 3, 4]\n",
    "])\n",
    "\n",
    "test_sort([\n",
    "            ['Alice', 'Smith', 1, 1, 1, 3, 4],\n",
    "            ['John', 'Smith', 1, 1, 2, 3, 4]],\n",
    "                         [\n",
    "            ['John', 'Smith', 1, 1, 2, 3, 4],\n",
    "            ['Alice', 'Smith', 1, 1, 1, 3, 4]\n",
    "])\n",
    "\n",
    "test_sort([\n",
    "            ['Alice', 'Doe', 1, 1, 3, 3, 4],\n",
    "            ['Alice', 'Smith', 1, 1, 3, 3, 4],\n",
    "            ['John', 'Smith', 1, 1, 2, 3, 4]], \n",
    "          [\n",
    "            ['Alice', 'Doe', 1, 1, 3, 3, 4],\n",
    "            ['Alice', 'Smith', 1, 1, 3, 3, 4],\n",
    "            ['John', 'Smith', 1, 1, 2, 3, 4]\n",
    "])\n",
    "\n",
    "test_sort([\n",
    "        ['Alice', 'Doe', 1, 1, 3, 3, 4],\n",
    "        ['Alice', 'Smith', 1, 1, 3, 3, 4],\n",
    "        ['John', 'Smith', 2, 1, 2, 3, 4]], \n",
    "          [\n",
    "        ['John', 'Smith', 2, 1, 2, 3, 4],\n",
    "        ['Alice', 'Doe', 1, 1, 3, 3, 4],\n",
    "        ['Alice', 'Smith', 1, 1, 3, 3, 4],\n",
    "])\n",
    "\n",
    "del test_sort"
   ]
  },
  {
   "cell_type": "markdown",
   "metadata": {},
   "source": [
    "### #6 (1)\n",
    "Write function `seq(a, b, filename)`, which creates the file called `filename` and writes inside there integer numbers from `a` to `b` including, each number on the separate line. Do not forget to close the file!"
   ]
  },
  {
   "cell_type": "code",
   "execution_count": null,
   "metadata": {},
   "outputs": [],
   "source": [
    "# CODE HERE"
   ]
  },
  {
   "cell_type": "code",
   "execution_count": null,
   "metadata": {},
   "outputs": [],
   "source": [
    "from tempfile import NamedTemporaryFile\n",
    "import os\n",
    "\n",
    "testsuite = [(10, 11), (100, 1000), (0, 10), (1, 2), (1, 1), (5, 5)]\n",
    "\n",
    "for a, b in testsuite:\n",
    "    f = NamedTemporaryFile(dir='.', delete=False)\n",
    "    name = f.name\n",
    "    f.close()\n",
    "    try:\n",
    "        seq(a, b, name)\n",
    "        with open(name) as f:\n",
    "            collected_output = list(map(int, f))\n",
    "            assert collected_output == list(range(a, b + 1)), \\\n",
    "                \"Incorrect output for a = {}, b = {}\\n\".format(a, b) + \\\n",
    "                \"Your output:\\n\" + \"\\n\".join(map(str,collected_output))\n",
    "    finally:\n",
    "        os.remove(name)"
   ]
  },
  {
   "cell_type": "markdown",
   "metadata": {},
   "source": [
    "### #7 (4)\n",
    "\n",
    "Function `save_bill(clientname, cart, filename)` has on input client's name, the list of goods in receipt `cart` (which consists of 3-element tuples such `(good_name, quantity, price_per_unit)`, and the file called `filename`. The function should create the file with name as stated in `filename` within the receipt formated such in the template below. All numbers should be in format with 2 decimal places.  \n",
    "\n",
    "**Example**:\n",
    "Input: `save_bill('Alice', [('Oil', 2, 100.11), ('Bread', 0.345, 90), ('Milk', 1, 50.32)], \"somefile.txt\")` \n",
    "\n",
    "**Output (the file called `somefile.txt`)**: \n",
    "\n",
    "    Client name: Alice\n",
    "\n",
    "    Oil x 2.00: 200.22\n",
    "    Bread x 0.34: 31.05\n",
    "    Milk x 1.00: 50.32\n",
    "\n",
    "    Total: 281.59"
   ]
  },
  {
   "cell_type": "code",
   "execution_count": null,
   "metadata": {},
   "outputs": [],
   "source": [
    "# CODE HERE"
   ]
  },
  {
   "cell_type": "code",
   "execution_count": null,
   "metadata": {},
   "outputs": [],
   "source": [
    "from tempfile import NamedTemporaryFile\n",
    "import os\n",
    "\n",
    "testsuite = [(\"Alice\", [('Oil', 2, 100.11), ('Bread', 0.345, 90),\n",
    "                        ('Milk', 1, 50.32)],\n",
    "                        ('Client name: Alice\\n\\nOil x 2.00: 200.22\\nBread'\n",
    "                        ' x 0.34: 31.05\\nMilk x 1.00: 50.32\\n\\nTotal: 281'\n",
    "                        '.59')),\n",
    "             (\"Bill Clinton\", [('Thing', 1, 10),\n",
    "                               ('Other thing', 1.234, 32.32)],\n",
    "              ('Client name: Bill Clinton\\n\\nThing x 1.00: 10.0'\n",
    "               '0\\nOther thing x 1.23: 39.88\\n\\nTotal: 49.88')),\n",
    "             (\"Claudia\", [('This', 1.3, 2.12),\n",
    "                          ('This', 1.6, 2.12)],\n",
    "             ('Client name: Claudia\\n\\nThis x 1.30: 2.76\\nThis'\n",
    "              ' x 1.60: 3.39\\n\\nTotal: 6.15'))\n",
    "            ]\n",
    "\n",
    "for clientname, cart, output in testsuite:\n",
    "    f = NamedTemporaryFile(dir='.', delete=False)\n",
    "    name = f.name\n",
    "    f.close()\n",
    "    try:\n",
    "        save_bill(clientname, cart, name)\n",
    "        with open(name) as f:\n",
    "            collected_output = f.read().strip()\n",
    "            assert collected_output == output.strip(), (collected_output, output.strip())\n",
    "    finally:\n",
    "        os.remove(name)"
   ]
  },
  {
   "cell_type": "markdown",
   "metadata": {},
   "source": [
    "### #8 (3)\n",
    "\n",
    "Write function`weighted_sum(weights, grades, normalize)`, which returns the weighted sum of grades from the array `grades` and their weights from `weights`. For example, for `weights = np.array([0.3, 0.3, 0.4])` and `grades = np.array([7, 9, 8])` function returns the number $0.3\\times 7+0.3\\times 9+0.4\\times 8=8.0$.\n",
    "\n",
    "If option `normalize` is set as `True`, and the sum of weights differs from 1, so, you need to normalize your weights to get their sum equals to 1 before weighting. Otherwise, do not weigh the weights (by default option `normalize` is set as `normalize = False`). Use `numpy` arrays and methods."
   ]
  },
  {
   "cell_type": "code",
   "execution_count": null,
   "metadata": {},
   "outputs": [],
   "source": [
    "# CODE HERE"
   ]
  },
  {
   "cell_type": "code",
   "execution_count": null,
   "metadata": {},
   "outputs": [],
   "source": [
    "from timeit import timeit\n",
    "import numpy as np\n",
    "\n",
    "def test(w, g, out, normalize = False):\n",
    "    q = weighted_sum(np.array(w), np.array(g), normalize)\n",
    "    assert np.isclose(q, out)\n",
    "\n",
    "test([0.3, 0.3, 0.4], [7, 9, 8], 8)\n",
    "test([0.1, 0.2, 0.3, 0.4], [1, 5, 3, 2], 2.8)\n",
    "test([1, 2, 3, 4], [1, 5, 3, 2], 28)\n",
    "test([1, 2, 3, 4], [1, 5, 3, 2], 2.8, normalize=True)\n",
    "\n",
    "N = 1000000\n",
    "\n",
    "test([1, 2, 3, 4], [1, 5, 3, 2], 28)\n",
    "\n",
    "benchmark = timeit(\"sum([x/x for x in np.array([1]*N)])\", \"from __main__ import N, np\", number=1)\n",
    "otherbenchmark = timeit(\"weighted_sum(np.array([1.1]*N), np.array([1]*N), True)\", \n",
    "                        \"from __main__ import N, weighted_sum, np\", number=1)\n",
    "assert benchmark > otherbenchmark*1.7, \"Toooo slow..\""
   ]
  },
  {
   "cell_type": "markdown",
   "metadata": {},
   "source": [
    "### #9 (3)\n",
    "\n",
    "Let `X` contains `np.array`, in rows - objects, in columns — features. Write the function `normalize(X)`, which normalize all features to obtain the mean equals to $0$ and standard deviation to $1$. In other words, for each column's element substract the mean value and divide the result on the column's standard deviation. \n",
    "\n",
    "If $X=(x_{ij})$ — given matrix, $x_{ij}$ — element in $i$-th row and $j$-th column, and $x_{\\cdot j}$ — $j$-th column; so, in new matrix in $i$-th row and $j$-th column should be the following element:\n",
    "\n",
    "$$\\widehat{x}_{ij}=\\frac{x_{ij}-\\overline{x_{\\cdot j}}}{\\sigma_{x_{\\cdot j}}},$$\n",
    "where $\\overline{x_{\\cdot j}}$ — sample mean of all elements of $j$-th column, $\\sigma_{x_{\\cdot j}}$ — their sample standard deviation.\n",
    "\n",
    "**Hint**: use methods `.mean()` and `.std()` with option `axis`. Do not use loops."
   ]
  },
  {
   "cell_type": "code",
   "execution_count": null,
   "metadata": {},
   "outputs": [],
   "source": [
    "# CODE HERE"
   ]
  },
  {
   "cell_type": "code",
   "execution_count": null,
   "metadata": {},
   "outputs": [],
   "source": [
    "assert np.isclose(normalize(np.array([[ 1.00766597, -1.1201796 ,  2.47274732, -0.33619288,  1.50555214],\n",
    "       [ 1.48986823,  0.80894409,  0.55980545,  0.67813423, -0.3187493 ]])), np.array([[-1., -1.,  1., -1.,  1.],\n",
    "       [ 1.,  1., -1.,  1., -1.]])).all()\n",
    "assert np.isclose(normalize(np.array([[-0.98607026],\n",
    "       [ 1.93312384],\n",
    "       [-0.99905497],\n",
    "       [-0.95934573],\n",
    "       [ 0.05295053]])), np.array([[-0.69959273],\n",
    "       [ 1.87124093],\n",
    "       [-0.71102792],\n",
    "       [-0.67605736],\n",
    "       [ 0.21543708]])).all()\n",
    "assert np.isclose(normalize(np.array([[-1.63419424],\n",
    "       [ 0.39451389],\n",
    "       [-0.11346483],\n",
    "       [ 0.56117231],\n",
    "       [ 0.35460207],\n",
    "       [ 1.50836012],\n",
    "       [ 0.5176692 ],\n",
    "       [-1.20605276],\n",
    "       [ 0.7904588 ],\n",
    "       [ 1.28349441]])), np.array([[-1.9874883 ],\n",
    "       [ 0.15738144],\n",
    "       [-0.37968359],\n",
    "       [ 0.33358254],\n",
    "       [ 0.11518431],\n",
    "       [ 1.33500529],\n",
    "       [ 0.28758849],\n",
    "       [-1.53483191],\n",
    "       [ 0.57599773],\n",
    "       [ 1.09726401]])).all()\n",
    "assert np.isclose(normalize(np.array([[-1.31158329,  2.5954087 , -1.01662736, -0.27565263,  0.52639556,\n",
    "         0.58218805, -0.35961103,  0.31096071,  0.52193677, -0.41754881],\n",
    "       [-0.19218836, -0.03416295,  0.80408723, -1.18733572,  0.14422448,\n",
    "         0.6091103 ,  0.67617586,  0.17732224,  0.99660189, -0.07798097]])), np.array([[-1.,  1., -1.,  1.,  1., -1., -1.,  1., -1., -1.],\n",
    "       [ 1., -1.,  1., -1., -1.,  1.,  1., -1.,  1.,  1.]])).all()\n",
    "assert np.isclose(normalize(np.array([[-0.28368534, -0.90928588, -1.35180963],\n",
    "       [ 1.30199557,  1.32081835,  1.11951334]])), np.array([[-1., -1., -1.],\n",
    "       [ 1.,  1.,  1.]])).all()\n",
    "assert np.isclose(normalize(np.array([[-0.34089722,  0.93727935],\n",
    "       [ 0.14410815, -0.96321317],\n",
    "       [-1.98355493, -0.0310602 ]])), np.array([[ 0.42383229,  1.23244371],\n",
    "       [ 0.95653353, -1.21689804],\n",
    "       [-1.38036582, -0.01554567]])).all()\n",
    "assert np.isclose(normalize(np.array([[ 1.53033913,  0.05456373,  0.22504087, -1.16687133, -0.23619502],\n",
    "       [-0.81477156,  1.96405223, -1.5506048 , -2.08082958, -0.23459537],\n",
    "       [-0.80961303, -0.55950949, -1.07953561,  0.571387  , -1.03341414],\n",
    "       [ 0.10526012, -2.06172783, -1.1661957 , -1.00297227, -1.02432731],\n",
    "       [ 0.04661   , -0.21104596, -0.84339233,  0.22806353, -0.34655384]])), np.array([[ 1.77181211,  0.16828692,  1.84979571, -0.49193269,  0.90886342],\n",
    "       [-0.96400966,  1.64710001, -1.11468608, -1.43524085,  0.91315434],\n",
    "       [-0.95799169, -0.30728521, -0.32822509,  1.30214625, -1.22961355],\n",
    "       [ 0.10930543, -1.47068586, -0.47290614, -0.32277035, -1.20523884],\n",
    "       [ 0.04088381, -0.03741586,  0.0660216 ,  0.94779764,  0.61283463]])).all()"
   ]
  },
  {
   "cell_type": "markdown",
   "metadata": {},
   "source": [
    "### #10 (2)\n",
    "\n",
    "Data frame `df` (pandas data frame) is a students' gradebook: in first two columns: `First Name` and `Last Name`, in the following columns — grades (integers from 0 to 5 including) for different courses. Write the function `get_grade(df, lastname, firstname, course)`, which returns the grade of particular student for the specific course. Assume that there is no students with both the same name and surname. Convert the result to integer number.\n",
    "\n",
    "**Example**:\n",
    "\n",
    "**Input** table:\n",
    "\n",
    "```\n",
    "  Last Name First Name  Algebra  Calculus  Music  Law\n",
    "0       Doe       John        4         5      3    5\n",
    "1     Smith      Alice        5         4      2    4\n",
    "```\n",
    "\n",
    "**Output**: from `get_grade(df, 'Doe', 'John', 'Algebra')` is `4`."
   ]
  },
  {
   "cell_type": "code",
   "execution_count": null,
   "metadata": {},
   "outputs": [],
   "source": [
    "# CODE HERE"
   ]
  },
  {
   "cell_type": "code",
   "execution_count": null,
   "metadata": {},
   "outputs": [],
   "source": [
    "def test(table, columns):\n",
    "    df = pd.DataFrame(table, columns=columns)\n",
    "    for row in table:\n",
    "        firstname = row[columns.index('First Name')]\n",
    "        lastname = row[columns.index('Last Name')]\n",
    "        for j, course in enumerate(columns[2:], 2):\n",
    "            assert get_grade(df, lastname, firstname, course) == row[j]\n",
    "\n",
    "test(\n",
    "    [\n",
    "        ['Doe', 'John', 1, 2, 3, 4], \n",
    "        ['Smith', 'Alice', 5, 4, 2, 4]\n",
    "    ], \n",
    "    columns=['Last Name', 'First Name', 'Algebra', 'Calculus', 'Music', 'Law']\n",
    ")\n",
    "\n",
    "test(\n",
    "    [\n",
    "        ['John', 'Doe', 1, 2, 3, 4], \n",
    "        ['Max', 'Katz', 5, 4, 2, 4]\n",
    "    ], \n",
    "    columns=['First Name', 'Last Name', 'Algebra', 'Calculus', 'Music', 'Law']\n",
    ")\n",
    "\n",
    "test(\n",
    "    [\n",
    "        ['John', 'Doe', 1, 2, 3, 4, 3, 2], \n",
    "        ['Jennifer', 'Lopez', 5, 4, 2, 4, 1, 1],\n",
    "        ['John', 'Smith', 2, 1, 4, 3, 3, 2]\n",
    "    ],\n",
    "    columns=['First Name', 'Last Name', 'Algebra', 'Calculus', 'Music', 'Law', 'CS', 'Physics']\n",
    ")\n",
    "\n",
    "test(\n",
    "    [\n",
    "        ['John', 'Doe', 1, 2, 3, 4, 3, 2], \n",
    "        ['Jack', 'Doe', 5, 4, 2, 4, 1, 1],\n",
    "        ['John', 'Smith', 2, 1, 4, 3, 3, 2]\n",
    "    ],\n",
    "    columns=['First Name', 'Last Name', 'Algebra', 'Calculus', 'Music', 'Law', 'CS', 'Physics']\n",
    ")"
   ]
  },
  {
   "cell_type": "markdown",
   "metadata": {},
   "source": [
    "### #11 (1)\n",
    "\n",
    "Let `df` is pandas data frame. Write the function `get_rows_after_5(df, n)`, which returns data frame, where `n` rows are written beginning with the 5-th row including. For instance, `get_row_after_5(df, 1)` should return only the 5-th row; and `get_row_after_5(df, 2)` — 5-th and 6-th."
   ]
  },
  {
   "cell_type": "code",
   "execution_count": null,
   "metadata": {},
   "outputs": [],
   "source": [
    "# CODE HERE"
   ]
  },
  {
   "cell_type": "code",
   "execution_count": null,
   "metadata": {},
   "outputs": [],
   "source": [
    "df = pd.DataFrame([[1, 2, 3], \n",
    "                   [4, 5, 6], \n",
    "                   [7, 8, 9], \n",
    "                   [10, 11, 12], \n",
    "                   [13, 14, 15], \n",
    "                   [16, 17, 18], \n",
    "                   [19, 20, 21]])\n",
    "\n",
    "assert get_rows_after_5(df, 1).equals(pd.DataFrame([[13, 14, 15]], index=[4]))\n",
    "assert get_rows_after_5(df, 2).equals(pd.DataFrame([[13, 14, 15], [16, 17, 18]], index=[4, 5]))\n",
    "assert get_rows_after_5(df, 3).equals(pd.DataFrame([[13, 14, 15], [16, 17, 18], [19, 20, 21]], index=[4, 5, 6]))\n",
    "\n",
    "\n",
    "df.index = list(range(6, -1, -1))\n",
    "assert get_rows_after_5(df, 1).equals(pd.DataFrame([[13, 14, 15]], index=[2]))\n",
    "\n",
    "df.index = list('abcdefg')\n",
    "df.sort_values(0, ascending=False, inplace=True)\n",
    "\n",
    "assert get_rows_after_5(df, 1).equals(pd.DataFrame([[7, 8, 9]], index=['c']))\n",
    "assert get_rows_after_5(df, 2).equals(pd.DataFrame([[7, 8, 9], [4, 5, 6]], index=['c', 'b']))\n",
    "\n",
    "df['hello'] = list('qwertyu')\n",
    "\n",
    "get_rows_after_5(df, 2)\n",
    "\n",
    "assert get_rows_after_5(df, 2).equals(pd.DataFrame([[7, 8, 9, 't'], [4, 5, 6, 'y']], columns = [0, 1, 2, 'hello'], index=['c', 'b']))"
   ]
  },
  {
   "cell_type": "markdown",
   "metadata": {},
   "source": [
    "### #12 (2)\n",
    "\n",
    "In pandas data frame `grades` the table with grades is located (each row — the student, each column — the particular activity), names of students are written inside `index`. In series-object `weights`, the weights are located (the sum of the weights equals to 1). Write the function `weight_grades(grades, weights)`, which returns the series-object, where student name (on the same places in `index`) and final grade are given. **Hint**: use `.dot()` method."
   ]
  },
  {
   "cell_type": "code",
   "execution_count": null,
   "metadata": {},
   "outputs": [],
   "source": [
    "# CODE HERE"
   ]
  },
  {
   "cell_type": "code",
   "execution_count": null,
   "metadata": {},
   "outputs": [],
   "source": [
    "grades = pd.DataFrame(dict(hw1=[3, 2, 2], hw2=[2, 3, 4]), index=['Alice', \n",
    "                                                             'Claudia', \n",
    "                                                             'Bob'])\n",
    "weights = pd.Series([0.75, 0.25], index=['hw2', 'hw1'])\n",
    "assert (weight_grades(grades, weights) == pd.Series([2.25, 2.75, 3.5],\n",
    "                                                   index = ['Alice', \n",
    "                                                            'Claudia', \n",
    "                                                            'Bob'])).all()\n",
    "\n",
    "grades = pd.DataFrame(dict(hw1=[3, 2], hw2=[2, 3], hw3=[0, 1]),\n",
    "                      index=['Alice', 'Claudia'])\n",
    "weights = pd.Series(dict(hw1=0.25, hw2=0.5, hw3=0.25))\n",
    "assert weight_grades(grades, weights).to_dict() == {'Alice': 1.75, \n",
    "                                                    'Claudia': 2.25}"
   ]
  },
  {
   "cell_type": "markdown",
   "metadata": {},
   "source": [
    "### #13 (3)\n",
    "\n",
    "Pandas data frame `df` is a gradebook. Write the function `gpa_top(df)`, which modify `df` in the following way:\n",
    "\n",
    "- Add column called `'GPA'`, fill it with average grade. If in particular cell `NaN` (no information) is stated (student has no such course in his/her curriculum), then average is calculated among not `NaN` values.\n",
    "- Sort `df` descending by `GPA`.\n",
    "- Return such rows of `df`, where `GPA` is not less than `4`.\n",
    "\n",
    "**Hints**: Use `.sort_values()` method; `.mean()` method ignors `NaN`'s by default.\n",
    "\n",
    "**Example**:\n",
    "```python\n",
    "# Input df:\n",
    "pd.DataFrame([['Doe', 'John', 4, 5, 3.0, 5], \n",
    "              ['Smith', 'Alice', 5, 4, float(\"nan\"), 4]], \n",
    "             columns=['Last Name', 'First Name', \n",
    "                      'Algebra', 'Calculus', 'Music', 'Law'], index=[0, 1])\n",
    "\n",
    "# Output df:\n",
    "pd.DataFrame([['Smith', 'Alice', 5, 4, float(\"nan\"), 4, 4.333333333333333], \n",
    "              ['Doe', 'John', 4, 5, 3.0, 5, 4.25]], \n",
    "             columns=['Last Name', 'First Name', 'Algebra', \n",
    "                      'Calculus', 'Music', 'Law', 'GPA'], index=[1, 0])\n",
    "```"
   ]
  },
  {
   "cell_type": "code",
   "execution_count": null,
   "metadata": {},
   "outputs": [],
   "source": [
    "# CODE HERE"
   ]
  },
  {
   "cell_type": "code",
   "execution_count": null,
   "metadata": {},
   "outputs": [],
   "source": [
    "import pandas as pd\n",
    "def pd_repr(df):\n",
    "    content = repr(df.values.tolist()).replace('nan', 'float(\"nan\")')\n",
    "    columns = repr(df.columns.tolist())\n",
    "    index = repr(df.index.tolist())\n",
    "    return \"pd.DataFrame(%s, columns=%s, index=%s)\" % (content, columns, index)\n",
    "\n",
    "def test(table, columns, newtable, newindex):\n",
    "    inp = pd.DataFrame(table, columns=columns)\n",
    "    expected = pd.DataFrame(newtable, columns = columns + ['GPA'], index=newindex)\n",
    "    out = gpa_top(inp)\n",
    "    if len(out) == 0 and len(expected) == 0:\n",
    "        return\n",
    "    assert out.equals(expected), \"Something wrong %s\" % pd_repr(inp)\n",
    "\n",
    "test([['Doe', 'John', 4, 5, 3.0, 5]], ['Last Name', 'First Name', 'Algebra', 'Calculus', 'Music', 'Law'], [['Doe', 'John', 4, 5, 3.0, 5, 4.25]], [0])\n",
    "test([['Doe', 'John', 4, 5, 3.0, 5], ['Smith', 'Alice', 5, 4, float('nan'), 4]], ['Last Name', 'First Name', 'Algebra', 'Calculus', 'Music', 'Law'], [['Smith', 'Alice', 5, 4, float('nan'), 4, 4.333333333333333], ['Doe', 'John', 4, 5, 3.0, 5, 4.25]], [1, 0])\n",
    "test([['Doe', 'John', 1, 5, 3.0, 5], ['Smith', 'Alice', 5, 4, float('nan'), 4]], ['Last Name', 'First Name', 'Algebra', 'Calculus', 'Music', 'Law'], [['Smith', 'Alice', 5, 4, float('nan'), 4, 4.333333333333333]], [1])\n",
    "test([['Doe', 'John', 4, float('nan'), 3.0, float('nan')], ['Smith', 'Alice', 2, 4, float('nan'), 4]], ['Last Name', 'First Name', 'Algebra', 'Calculus', 'Music', 'Law'], [], [])\n",
    "test([['Doe', 'John', 4, float('nan'), 5.0, float('nan')], ['Smith', 'Alice', 5, 5, float('nan'), 4]], ['Last Name', 'First Name', 'Algebra', 'Calculus', 'Music', 'Law'], [['Smith', 'Alice', 5, 5.0, float('nan'), 4.0, 4.666666666666667], ['Doe', 'John', 4, float('nan'), 5.0, float('nan'), 4.5]], [1, 0])\n",
    "test([['Doe', 'John', 4, float('nan'), 5.0, float('nan'), 4, 5], ['Smith', 'Alice', 5, 5, float('nan'), 4, 4, float('nan')]], ['Last Name', 'First Name', 'Algebra', 'Calculus', 'Music', 'Law', 'Science', 'English'], [['Doe', 'John', 4, float('nan'), 5.0, float('nan'), 4, 5.0, 4.5], ['Smith', 'Alice', 5, 5.0, float('nan'), 4.0, 4, float('nan'), 4.5]], [0, 1])\n",
    "test([['Doe', 'John', 4, float('nan'), 5.0, float('nan'), 4, 5], ['Smith', 'Alice', 5, 5, float('nan'), 4, 5, float('nan')], ['Doe', 'Alice', 4, float('nan'), 5.0, float('nan'), 4, 5], ['Smith', 'John', 5, 5, float('nan'), 3, 4, float('nan')], ['Doe', 'John', 4, float('nan'), 5.0, 2, 4, 5], ['Smith', 'Alice', 2, 2, float('nan'), 4, 4, float('nan')]], ['Last Name', 'First Name', 'Algebra', 'Calculus', 'Music', 'Law', 'Science', 'English'], [['Smith', 'Alice', 5, 5.0, float('nan'), 4.0, 5, float('nan'), 4.75], ['Doe', 'John', 4, float('nan'), 5.0, float('nan'), 4, 5.0, 4.5], ['Doe', 'Alice', 4, float('nan'), 5.0, float('nan'), 4, 5.0, 4.5], ['Smith', 'John', 5, 5.0, float('nan'), 3.0, 4, float('nan'), 4.25], ['Doe', 'John', 4, float('nan'), 5.0, 2.0, 4, 5.0, 4.0]], [1, 0, 2, 3, 4])"
   ]
  },
  {
   "cell_type": "markdown",
   "metadata": {},
   "source": [
    "### #14 (4)\n",
    "Write the function to detect the winner of votes `winner_votes(df)`, which get as an input pandas `df` and returns as a result `tuple` (list in `()` instead of `[]`) like `('winner name', votes)`. The voting is by majority for the `state` (if equal votes assume the alphabetical order prevails).\n",
    "\n",
    "Example:\n",
    "\n",
    "Input:\n",
    "```\n",
    "          state  electors  Arya Stark  Tyrion Lannister  Deineris Targarien\n",
    "0    Winterfell         3         0.6               0.3                 0.1\n",
    "1      Riverrun         5         0.3               0.2                 0.5\n",
    "2  Vaes Dothrak         2         0.2               0.3                 0.5\n",
    "```\n",
    "Output:\n",
    "```\n",
    "(\"Deineris Targarien\", 7)\n",
    "```\n",
    "\n",
    "**Hint**: `.idxmax()`, `.sort_index()`, `.groupby()` could be useful."
   ]
  },
  {
   "cell_type": "code",
   "execution_count": null,
   "metadata": {},
   "outputs": [],
   "source": [
    "# CODE HERE"
   ]
  },
  {
   "cell_type": "code",
   "execution_count": null,
   "metadata": {},
   "outputs": [],
   "source": [
    "import random\n",
    "import numpy as np\n",
    "\n",
    "df = pd.DataFrame([['Winterfell', 3, 0.6, 0.3, 0.1],\n",
    " ['Riverrun', 5, 0.3, 0.2, 0.5],\n",
    " ['Vaes Dothrak', 2, 0.2, 0.3, 0.5]], columns=['state', 'electors', \n",
    "                                               'Arya Stark', \n",
    "                                               'Tyrion Lannister', \n",
    "                                               'Deineris Targarien'])\n",
    "\n",
    "\n",
    "assert winner_votes(df) == (\"Deineris Targarien\", 7)\n",
    "\n",
    "def mktable(seed):\n",
    "    states = ['Florida', 'Connecticut', 'Georgia', 'Texas', 'Vermont', \n",
    "              'New Mexico', 'Illinois', 'Kentucky', 'Iowa', 'Alaska', \n",
    "              'New York', 'Massachusetts', 'Arkansas', 'Missouri', 'Kansas', \n",
    "              'Idaho', 'Wisconsin', 'Mississippi', 'Washington', 'Oklahoma', \n",
    "              'California', 'South Carolina', 'Hawaii', 'Maryland', 'Arizona', \n",
    "              'Montana', 'Ohio', 'Oregon', 'Rhode Island', 'South Dakota', \n",
    "              'Alabama', 'North Dakota', 'Virginia', 'New Jersey', 'Wyoming', \n",
    "              'Maine', 'D.C.', 'Tennessee', 'Pennsylvania', 'Nebraska', \n",
    "              'Delaware', 'Michigan', 'New Hampshire', 'Indiana', \n",
    "              'North Carolina', 'Colorado', 'West Virginia', 'Utah', \n",
    "              'Minnesota', 'Louisiana', 'Nevada']\n",
    "    candidates = ['Clinton', 'Trump', 'Johnson', 'Stein', 'Castle', \n",
    "                  'McMullin']\n",
    "    random.seed(seed)\n",
    "    np.random.seed(seed)\n",
    "    states_ = random.sample(states, random.randrange(1, len(states)))\n",
    "    candidates_ = random.sample(candidates, \n",
    "                                random.randrange(1, len(candidates)))\n",
    "    results = np.random.uniform(size=(len(candidates_), len(states_)))\n",
    "    results = (results / results.sum(axis=0)).T\n",
    "    electors = np.random.randint(1, 20, size=len(states_))\n",
    "    return pd.concat([pd.Series(states_, name='state'),\n",
    "                      pd.Series(electors, name='electors'), \n",
    "                      pd.DataFrame(results,\n",
    "                                   columns=candidates_)], axis=1)\n",
    "\n",
    "for i, result in enumerate([('Stein', 107), ('Clinton', 48), ('Castle', 18), \n",
    "                            ('Trump', 63), ('Johnson', 88), ('Johnson', 196), \n",
    "                            ('Johnson', 88), ('McMullin', 62), ('Trump', 51), \n",
    "                            ('Johnson', 295), ('Johnson', 79), ('Stein', 84), \n",
    "                            ('Clinton', 285), ('Trump', 84), ('Stein', 55), \n",
    "                            ('McMullin', 59), ('Clinton', 110), \n",
    "                            ('McMullin', 162), ('Johnson', 45), \n",
    "                            ('Clinton', 165), ('Castle', 156), \n",
    "                            ('Johnson', 47), ('Trump', 83), ('Trump', 287), \n",
    "                            ('Stein', 268), ('Castle', 275), ('Clinton', 235), \n",
    "                            ('Trump', 434), ('Stein', 24), ('Castle', 135), \n",
    "                            ('Trump', 99), ('Stein', 17), ('Clinton', 23), \n",
    "                            ('Clinton', 133), ('Trump', 159), ('Trump', 88), \n",
    "                            ('McMullin', 77), ('Johnson', 436), \n",
    "                            ('Stein', 211), ('Johnson', 158), ('Trump', 114), \n",
    "                            ('Castle', 259), ('Johnson', 431), \n",
    "                            ('Johnson', 19), ('Castle', 304), ('Trump', 118), \n",
    "                            ('Castle', 18), ('McMullin', 141), \n",
    "                            ('Clinton', 197), ('McMullin', 14), \n",
    "                            ('Trump', 259), ('Castle', 87), ('Trump', 171), \n",
    "                            ('Castle', 120), ('Johnson', 48), ('Stein', 54), \n",
    "                            ('Trump', 382), ('Trump', 30), ('Trump', 134), \n",
    "                            ('McMullin', 77), ('Trump', 72), ('Stein', 114), \n",
    "                            ('Clinton', 152), ('McMullin', 105), \n",
    "                            ('Clinton', 279), ('Trump', 241), ('Castle', 23), \n",
    "                            ('McMullin', 27), ('Stein', 148), ('Trump', 420), \n",
    "                            ('Castle', 42), ('Clinton', 114), ('Stein', 23), \n",
    "                            ('Castle', 68), ('Clinton', 328), \n",
    "                            ('Johnson', 149), ('Trump', 97), ('Trump', 91), \n",
    "                            ('Trump', 51), ('McMullin', 45), ('Johnson', 56), \n",
    "                            ('McMullin', 167), ('Stein', 57), ('Castle', 111), \n",
    "                            ('Stein', 477), ('McMullin', 82), \n",
    "                            ('Clinton', 173), ('Clinton', 77), ('Trump', 273), \n",
    "                            ('Trump', 43), ('Trump', 68), ('Stein', 34), \n",
    "                            ('McMullin', 185), ('Clinton', 293), \n",
    "                            ('Johnson', 138), ('Stein', 261), \n",
    "                            ('Johnson', 131), ('Johnson', 58), \n",
    "                            ('Trump', 85), ('McMullin', 283)]):\n",
    "    assert winner_votes(mktable(i)) == result, \"Something wrong \"\\\n",
    "                                               \"with table\\n\" + \\\n",
    "                                            str(mktable(i)) + \"\\nExpected \" +\\\n",
    "                                            str(result) + \"\\nObtained: \" + \\\n",
    "                                            str(winner_votes(mktable(i)))"
   ]
  },
  {
   "cell_type": "markdown",
   "metadata": {},
   "source": [
    "### #15 (4)\n",
    "In family of 4 people (Mom, Dad, Ann, Bob) live a hamster. One day, Mom brings the bag of nuts and leaves it in kitchen. Then, Dad comes, gives one nut to hamster, the rest nuts divides on 4 equal parts, eats the one of these parts and go away. Then, Ann comes and do the same as her father (one nut gives to hamster, rest divided by 4, eats the one). Then, Bob does the same. Then, Mom does the same. At the end, all people come to kitchen and divides the rest by 4. On this time hamster takes nothing.\n",
    "\n",
    "What minimum number of nuts could be in the bag, when Mom brought it first time?"
   ]
  },
  {
   "cell_type": "code",
   "execution_count": null,
   "metadata": {},
   "outputs": [],
   "source": [
    "# CODE HERE WITHIN THE ANSWER IN OUTPUT"
   ]
  },
  {
   "cell_type": "markdown",
   "metadata": {},
   "source": [
    "### #16 (6)\n",
    "$n$ people from different companies sit at round table. People are enumerated clockwise from $1$ to $n$. The $i$-th person is from to company $comp_i$.\n",
    "You need to allocate microphones among such people before meeting stats. Assume you have an infinite number of microphones of different colour.\n",
    "On the behalf of companies' ethics, the $i$-th person does not want to sit nearby the person from the other company, who has microphone of the same colour. Finally, you should allocate microphones in such the way in order to minimize the number of their colours.\n",
    "\n",
    "**Input**: You are given with the list of people (in the proper order), in which representatives of the same company are decoded with the same integer number.\n",
    "\n",
    "**Output**: You need to provide the minimum number of microphones' colours.\n",
    "\n",
    "**Hint**: Write the function `min_mic(list)` in order to check your code below."
   ]
  },
  {
   "cell_type": "code",
   "execution_count": null,
   "metadata": {},
   "outputs": [],
   "source": [
    "# CODE HERE"
   ]
  },
  {
   "cell_type": "code",
   "execution_count": null,
   "metadata": {},
   "outputs": [],
   "source": [
    "assert min_mic([1, 2, 1, 2, 2]) == 2\n",
    "assert min_mic([1, 2, 2, 1, 2, 2]) == 2\n",
    "assert min_mic([1, 2, 1, 2, 3]) == 3\n",
    "assert min_mic([10, 10, 10]) == 1\n",
    "assert min_mic([1, 10, 10, 10]) == 2\n",
    "assert min_mic([3, 2, 1, 3, 3]) == 2\n",
    "assert min_mic([3, 2, 1]) == 3\n",
    "assert min_mic([3, 2, 1, 2]) == 2\n",
    "assert min_mic([3, 2, 1, 1]) == 2\n",
    "assert min_mic([3, 1, 1, 2, 2]) == 2\n",
    "assert min_mic([1, 2, 3, 2, 2, 1, 2, 3]) == 2\n",
    "assert min_mic([1, 2, 2, 1, 3]) == 2\n",
    "assert min_mic([1, 2, 3, 4, 5, 6, 7, 8, 9]) == 3\n",
    "assert min_mic([1, 2, 3, 4, 5, 6, 7, 8, 9, 10]) == 2"
   ]
  },
  {
   "cell_type": "markdown",
   "metadata": {},
   "source": [
    "### #17 (5)\n",
    "Pandas DataFrame `grades` stores students' grades for different seminars' activities. If the student does not submit the particular activity - it is marked as `NaN`. DataFrame `excuses` stores the list of several reasons of not submitting (the only valid excuse reason is illness). Some students attend classes and submit activities even if they have the valid excuse reason. The final grade is the simple ariphmetic mean from all activities' grades. If the student has missed the activity with invalid excuse - this student gets zero for this activity. If the reason was valid - this activity is not considered in the final grade calculation.\n",
    "\n",
    "**Input Example**:\n",
    "```python\n",
    "import datetime\n",
    "grades = pd.DataFrame([[5, np.nan, 7, np.nan], \n",
    "                       [2, np.nan,      np.nan, 4]], index=['Hermione', 'Ron'],\n",
    "                     columns=pd.date_range(start=\"2017-02-01\", freq=\"W\", \n",
    "                                              periods=4))\n",
    "excuses = pd.DataFrame([['Hermione', datetime.datetime(2017, 2, 5), \n",
    "                         'was ill'],\n",
    "                        ['Hermione', datetime.datetime(2017, 2, 12), \n",
    "                         'illness'],\n",
    "                        ['Ron', datetime.datetime(2017, 2, 19), 'family'],\n",
    "                        ['Harry',datetime.datetime(2017, 2, 19), \n",
    "                         'quidditch']],\n",
    "                      columns=['student', 'date', 'reason'])\n",
    "```\n",
    "\n",
    "Write the function `final_grades(grades, excuses)`, that takes two DataFrames and returns pandas Series object (indexes - names of students in the same order that is provided in `grades`, values - final grades).\n",
    "\n",
    "**Output Example (based on Input Example data):**\n",
    "\n",
    "    Hermione    4.0\n",
    "    Ron         1.5\n",
    "    dtype: float64"
   ]
  },
  {
   "cell_type": "code",
   "execution_count": null,
   "metadata": {},
   "outputs": [],
   "source": [
    "# CODE HERE"
   ]
  },
  {
   "cell_type": "code",
   "execution_count": null,
   "metadata": {},
   "outputs": [],
   "source": [
    "import pandas as pd\n",
    "import numpy as np\n",
    "import datetime\n",
    "\n",
    "\n",
    "grades = pd.DataFrame([[5, np.nan, 7, np.nan], \n",
    "                       [2, np.nan,      np.nan, 4]], index=['Hermione', 'Ron'],\n",
    "                     columns=pd.date_range(start=\"2017-02-01\", freq=\"W\", \n",
    "                                              periods=4))\n",
    "excuses = pd.DataFrame([['Hermione', datetime.datetime(2017, 2, 5), \n",
    "                         'was ill'],\n",
    "                        ['Hermione', datetime.datetime(2017, 2, 12), \n",
    "                         'illness'],\n",
    "                        ['Ron', datetime.datetime(2017, 2, 19), 'family'],\n",
    "                        ['Harry',datetime.datetime(2017, 2, 19), \n",
    "                         'quidditch']],\n",
    "                      columns=['student', 'date', 'reason'])\n",
    "\n",
    "\n",
    "assert final_grades(grades, excuses=excuses).to_dict() == {'Hermione': 4.0, \n",
    "                                                           'Ron': 1.5}\n",
    "\n",
    "grades = pd.DataFrame([[5, np.nan, 7,      np.nan],\n",
    "                       [2, np.nan, np.nan, 4]], index=['Hermione', 'Ron'],\n",
    "                       columns=pd.date_range(start=\"2017-02-01\", freq=\"W\",\n",
    "                                              periods=4))\n",
    "excuses = pd.DataFrame([['Hermione', datetime.datetime(2017, 2, 5),\n",
    "                         'was ill'],\n",
    "                        ['Hermione', datetime.datetime(2017, 2, 12),\n",
    "                         'illness'],\n",
    "                        ['Ron', datetime.datetime(2017, 2, 19), 'family'],\n",
    "                        ['Harry',datetime.datetime(2017, 2, 19),\n",
    "                         'quidditch']],\n",
    "                      columns=['student', 'date', 'reason'])\n",
    "\n",
    "grades1 = pd.DataFrame([[np.nan, 3, np.nan, np.nan],\n",
    "                        [2, np.nan, np.nan, np.nan]], index=['Hermione', 'Ron'],\n",
    "                        columns=pd.date_range(start=\"2017-02-01\", freq=\"W\",\n",
    "                                              periods=4))\n",
    "excuses1 = pd.DataFrame([['Hermione', datetime.datetime(2017, 2, 5),\n",
    "                         'was ill'],\n",
    "                        ['Hermione', datetime.datetime(2017, 2, 12),\n",
    "                         'illness'],\n",
    "                        ['Ron', datetime.datetime(2017, 2, 5), 'ill or not to ill'],\n",
    "                        ['Harry',datetime.datetime(2017, 2, 19),\n",
    "                         'quidditch']],\n",
    "                      columns=['student', 'date', 'reason'])\n",
    "\n",
    "\n",
    "grades2 = pd.DataFrame([[3, 3, 3, 3, 3, 3, 3],\n",
    "                        [2, 2, 2, 3, 3, 3, 2.5]], index=['Hermione', 'Ron'],\n",
    "                        columns=pd.date_range(start=\"2017-02-01\", freq=\"W\",\n",
    "                                              periods=7))\n",
    "excuses2 = pd.DataFrame([['nobody', datetime.datetime(1900, 1, 1), 'no reason']],\n",
    "                      columns=['student', 'date', 'reason'])\n",
    "\n",
    "import zlib\n",
    "\n",
    "names = ['Sonja Mahon', 'Cassidy Carnegie', 'Lashay Percy', 'Jonathan Ong',\n",
    "         'Millie Gurrola', 'Shavon Voisin', 'Jackeline Virgil', 'Christena Thurman',\n",
    "         'Corinne Herbert', 'Hannah Crystal', 'Laura Clay', 'Sharie Brazell',\n",
    "         'Marcelina Botello', 'Zita Tinnin', 'Diedre Shawn', 'Darell Tippett',\n",
    "         'Danae Hanscom', 'Oda Norling', 'Minnie Elsey', 'NObody']\n",
    "\n",
    "compressed = b'x\\x01\\xadZ[\\x8f\\x137\\x14~\\xef\\xaf\\x98\\xb7\\x05)\\xaaH\\x80\\x16^Y\\xaa\"\\xc4B%*\\x1e\\xba\\xe2\\xc1\\xec\\x8e\\xd8\\xb4\\xd9\\t\\x9a\\x84V\\xdb_\\xdf\\xcfs|\\x9c\\xcf\\xd4\\xce\\x9c\\x93E\\x9a\\x9d\\x19\\xdb\\xe7~\\xf3\\x19g\\x1f\\\\^>_t\\xc3\\x97\\x1f\\x870,\\xba\\xe5\\xa2\\xfb\\x19\\xf7G\\x8b\\xee\\xf1a\\x12\\xa3\\x9f\\x16\\x1d\\xeeO\\x16\\x1d\\xc1bB\\xd1\\xf4\\x89\\xa9\\x88\\x0bh\\x9d\\x01\\x19\\x10\\xc4]^\\xb0\\xf8\\xec\\xb0\\x18a\\x97\\x1f\\x17?\\\\b\\x0e\\x97\\x90\\xc7\\x0b1\\x01\\x1a\\xa8=\\x15\\xba\\x90nB\\x99\\xa01\\x07t\\\\\\x80\\xc6\\x15\\x17V\\x85\\xd8 \\x04l!7)\\x159\\x11i\\xac\\x08\\x080AL\\x86\\x00\\x14]3\\x1eV#m\\x8cA^\\xd5\\x82\\xa8\\xfa\\xdaz\\x02\\x07\\xec!2\\xd0\\x9eD\\xd6\\n\\x881\\x88M\\x8a\\x00\\x06\\x0c\\xa3p\\x07z`\\x8f\\x8b\\x18\\x88$\\x00\\xc5E\"L*eR\\x18\\x01NYD\\xe2b\\x9fU\\xe4\\x8c\\x111\\x00ia $\\xc51\\xb0\\x0b\\x86\"\\xb0\\x18\\x14\\x14\\x95\\x1c0h\\x84e\\x92\\x0e(\\x98\\x00\\xb3\\x88\\x0b\\x12\\x82\\x93\\x9c\\x1a\\'\\x80\\x89%%\\xf5\\xedS\\x8c\\x01zB\\x15t )\\xe0\\x81\\x85\\x19\\xbc\\x83\\x02\\xee\\x00\\xc3\\x92\"\\xcb\\x8a\\xd8E\\xe7\\xb0\\xfc<r\\x050I\\xa7\\xab\\x91J\\x16\\xee@\\x08\\xc0\\n\\x01\\x9e\\xb0\\x8a\\xb0\"+\\x8b\\xa5@\\x91\\xd8GJ\\x15b\\x90\\nR\\x8b\\x06B5\\xca#\\xb2\\x82z\\xf29H\\xe1\\rwL\\x81[\\xba@\\x0ec\\x12\\x1c\"\\x00S`\\xf0\\x82\\x8b\\x04\\xd5W\\x08\\xa7\\xaf\\xe4\\xfc\\x03o]\\xd4\\'d\\x83\\x84`\\xf9\\x8d2`\\x86\\x8b\\xb8\\x83\\x9d\\xccA.\\x11C\\xc4\\xc6\\x90\\xa0\\xc46\\xa0\\x88\\x8bXL\\xc1.\\x88:\\xabO\\xd1Dx\\t\\x0f\\x08C\\xd8\\xd0\"\\x99\\t\\x9ac\\x1ew\\x88\\n\\xc8oL\\x1e\\x87\\xa0\"&\\x03\\xc6\\x14\\xe5\\x00S>\\xfa\\xc4\\x12\\x84\\x04$\\xee\\xb4\\x1c\\xd1\\xe3\\x9f\\xac\\xc5\\x81\\x8c\\x15\\rC\\x82\\x06\\x17\\x01\\x84@\\x98\\xc6P\\xe10\\xc2\\x8a\\x8c\\xa2\\xafa\\x1b\\x8cA\\x0f|\\x89\\x80\\x82\\x033K\\x0cP@$=\\xa0c\\xa6\\xa3< \\x83\\xe2\\xe9\\x13\\x84\\x81\\x86\\x05\\xc0\\xe3\\x05L\\x9eE\\xae\\x98V\\x08H(2D\\xc2dWP\\x07\\xb4B\\xc5E\\x0c\\xb1\\x8e;\\xe0\\xf1\\x12\\xa7 \\x1b\\x01\\x89nQ\\xc6i%\\x020\\xfe\\xf2QR\\x18\\xcbX\\x8ar\\xc9\\x03\\xc4\\xe4\\xc2\\x90\\xc8\\x91~\\x82\\x815\\xbcD$\\xf0\\x10\\xcb@-L1\\x17\\x11Qg\\xa6\\xc0\\x02\\'\\x11\\r\\x14\\xb1,\\xc8QLPR@,\\xe1\\x8a2M\\x00X\\xc5\\x05`\\x89i\\xb1vbN\\x0c\\x85\\xa0\\xd2\\x98\\xf4\\xcb\\x83\\x92>d\\x07\\xb5\\xc8\\x11\\xe8 \\xaa`B\\x01\\xf7\\xecf\\x99\\x01G\\x08\\xa0P\\xc4R\\xa7\\xf4)\\x80\\xc0\\x06\\xd1B\\x808\\x9e\\x94\"n\\x91?)\\x8dW^\\x9cd\\xc3\\\\\\x84J\\xde\\x810i\\x04\\x0e\\xca\\x12\\x82\\t\\xd7D\\x0e\\xbaMQ\\x15\\xfdC\\xd4I~\\xe2\\x02\\x00\\x10UR\\xdf>a#\\x90\\xd6Y\\xc0\\x82\\xa6\\x8e\"m\\xa0\\xe2\\x0e\\xe1t\\xb2\\x84\\xc6\\x1a&\\xa2\\xec1\\xd4`5H\\r\\n\\x98\\xc3\\x1d\\xf2`&R\\x91\\x01\\x91\\x86|\\x02\\x03\\x00\\xbc\\x90\\xe4\\xca\\'\\xa2\\ti\\xdc\\x056/M\\x13O\\x13G0\\x87\\x12\\xa4\"\\x10qa\\x0e+b9,\\x8a\\x9e\\x90\\x00K2\\x0f\\xce\\xa2\\\\&\\x8b%LbUgH`\\x9dBNE\\xbe\\x97g\\xefo\\xc2\\xdf\\xdb\\xa1\\xfb\\xb0]\\xef\\xd6\\xc3\\xd9\\xa2\\xbb\\x0e\\xfb~\\xbf\\xbe\\xed\\x7f\\xd4\\x97\\x07\\xabGKp\\x85A\\xe2#\\n\\xf5p\\xd1\\x9d\\xed\\xb6\\xb7}\\xb7\\xdd\\xdf\\xf4c7\\xf6a\\xb7\\x1d\\xce\"\\xb9\\xb3?\\xd6\\xfb\\xd0\\xfd\\xbe\\x1e\\x86YZ\\xb3\\xa4.\"\\x95\\xbe\\xfbe\\xb3\\xeb\\xeff\\xe4\\x82\\x17T\\xae\\xf5F\\x04y\\x19\\xc6~\\xb3\\x81(_\\xbe\\xf4\\xfb\\xfdq\\xfc\\x15t;\\xe0\\'\\x02\\xaf\\xc20\\x84\\x9b\\xee|\\xbc\\xdb\\xed\\xc3\\xe68\\x01q\\xc7d\\x97\\xf5&\\xe1\\xbf\\x0eW\\x7f\\xf5\\x9b\\xf5\\xd0w\\x1f\\xd6\\xe3g\\x88u\\xd4\\xb4\\xab\\xc8\\x1fW4m&\\xe1\\xd2\\xa1&\\xc3\\xf9\\xcd\\xb8\\xde\\xed\\xfb\\x01.\\xb9\\xf9:\\xde\\x869\\xff\"d\\xfe/\\xc4\\xba\\xbf\\x1e\\xfb\\x0ea\\xf2\\xcf\\x0c\\xfa\\xaa\\xe2\\x06\\xa0\\x8dp\\xe2\\x8b1\\xfc\\x0bw\\x1c\\xb7\\xc1\\x92Th\\x84\\x97\\xd3\\xa8\\x92\\x17\\xc9\\xa8\\'\\xc4Ea\\x0f\\xc1\\x7f\\x13v7\\xe1\\xae\\xfb\\xad\\x1f\\xaff\\xa2rE\\xd9\\xa2Qy\\xbe\\x1d\\x11\\xd5}\\xf7\\xaa\\x1f?\\xf5\\xe3LX.+\\xec}\\x06@\\x158\\xf8S\\xe4\\x7fw\\x1d\\xba\\xb7\\xdb\\x11\\x81\\xf9\\xf9\\xb87V\\xa8U\\x8a\\xdc\\xf0\\xc6E\\x18\\xafb\\x88\\x87\\xee\\xc5v\\x0f\\xf7n\\x8fS4\\x94\\x0fO\\xc4S\\xd2~\\x1f\\xf9\\x1a98\\x04\\xf8+\\x0c\\xbb\\xab\\xed\\xedq\\xfdV\\x14n-\\x89\\xec5\\r\\x15_\\xcd\\x9f\\x0b\\x82\\xb9\\xba\\x16\\x99\\x98\\n\\x92\\'\\x15W\\x94\\x8a\\x99\\xfbKs%(\\xe2\\xee\\xa4z\\x18w\\xcd\\x83\\xfa\\x12\\xba\\xef\\xb7\\xc3\\x9f\\xa1\\xbb\\x087\\xd8l\\x8e\\x16SK!\\xd9\\x0ea\\x7f\\x13\\x86\\xee\\xddl\\x1e\\x14i|\\xc2\\xe6\\xc0a\\x9fm\\xf9&|\\x1dCw\\xbe\\tsEd>\\x0b\\xed\\x19]\\xb8El\\xea\\xd8d\\x8b\\x90\\x10l\\xcf\\x1e\\xc9fhd\\x879\\xbc\\xd9\\xc1\\xd9\\xa4/\\x839Sk\\x95\\xf5\\xed\\xbbO\\xdb\\xeb9o\\xdc\\xcf\\x82\\x14\\xd3\\r\\x0b8R\\x8c\\x88\\xe9\\xeer\\x01[`\\xb3\\xfd\\xf5\\xeb8n7a&G(\\xac\\xef/L\\xadX\\xb9\\xa4)\\x82\\xebP\\xb0\\xac\\x9di\\x8d\\xbf\\xbd\\\\\\xd0>\\xdb0\\x85=M\\x8a\\xca\\x9b\\xea\\x96\\xa7\\x07\"Yrd{\\xf7\\xd9\"4\\xd4\\x98\\xd6\\xe2\\xb9\"[6\\xaca\\xef\\x81\\x1e\\x93(\\xf7&V\\xdd\\x94\\xec^\\xa6~![\\xd6\\xd7\\x8fQ-\\xd6\\x94s\\x11\\xe0\\x06A\\t\\xb8ve*?\\rkz\\x1a(\\xee\\xf0\\xb2E\\xac\\x1b\\xd3\\xb2fN{\\xf9bS4Tym\\xde\\xa2\\x97\\xd4x\\x9dbW\\xf2kC\\x16\\xf3\\xce4O\\xca\\x1c\\xb0\\xa4TC*W\\xf0-\\x8b\\xca\\x94\\xaa\\x82\\xabFSaP+\\xbb\\x1a\\x80\\xa2\\xb4Ii\\xf4i0\\xbfey\\xe4YU\\xe41\\xfb\\xb9<28E\\x19\\xe2\\xdep\\xaf5\\x159\\x8f\\x1b\\xa4<e\\x81\\xac\\xacn\\xf6\\xa0sahHc\\xb6r\\xad\\xc6\\xd87\\x9f\\xf9\\\\\\xf4}M\\x13\\xbd\\\\.\\x9d\\',\\xb5\\x983\\x17\\x84\\xf9\\x88q\\xa5SM\\x1d\\x8f\\xa3\\ra\\xe7(\\xe15Wco\\xb46\\x80|\\xd8\\xd2\\x88:\\xb3\\x9d\\x0bQ$\\xb5\\xcd\\x11\\xcbg\\x08\\r9\\xce\\xc3n\\xb7\\xbe\\xbe\\xeb\\xce\\xc38\\xf4\\x9f\\xd7\\xfdL\\x9fN\\x9dq\\x83\\xa0/\\x8a\\xf9\\xdb\\xa9A\\xd0\\xacm\\xb9\\xa7\\xa4*\\xe8Ro5\\xdf\\xd2\\xd8\\x83\\xa8\\xcc\\xae\\xb4\\xc5\\xd9?\\x8fi\\x83\\xbc\\xafa8\\x1cs\\xad\\xb0+R\\xec\\xb4I\\x0fWnS\\xefpJ\\r\\xe7\\xee,\\x8b\\xef\\x8b\\xdb\\x92\\x84\\x84\\x86/Pk\\xc7\\xc9\\xf6\\xe2_~,\\x08\\x7f\\xe7w\\x14\\xd5\\xdbl\\x04{\\x87\\xcb\\'X\\x8dp\\xf2\\x9cX\\x90G\\x1b\\xd4N\\xd7\\xaeA\\xd0t\"2_\\x9e<{J\\xcd\\xe4\\xae\\x1e\\xb5\\xa8\\xdd)sLzP\\xca5\\xcc\\xe1\\x8b^\\xf2\\xd7!x\\xec\\'T$NF7\\x97\\xe5\\xfb\\xd5AS\\xe0:~\\\\\\xa3\\n\\xaf\\xb5\\xc8\\\\\\x93\\r\\xe7\\x07>\\xb7\\xd4\\xca\\x92%>\\x96\\xa4E#>\\xee\\x1b\\xe7\\xe6\\xfe\\xc4\\xd0xyN\\x15\\x0c6v\\xed=\\xf3\\xdb\\xa8\\xd9\\xfd\\x86\\xee\\xe0\\xbb\\x16d\\xfb\\x0eMeO\\x83\\xdaQ\\xcd\\x8b\\xecNm\\x93\\xe7\\x97\\xc1\\xea\\xd7\\xe7}~\\xebM\\xfb#J\\x8d\\xf5\\xfc\\xb8\\xf6\\xf5\\xe0\\n\\x13\\xfa\\xccl$\\x94\\xb9\\xde\\x19ZZK\\x8e\\xf3\\xc9g.\\xba\\xbe\\xae\\x87%\\xd1\\xb8\\xb0\\xb0\\xe6\\x1fG\\x14\\xcf\\xb5\\xef\\x15\\x1b\\xe7\\t\\x11E\\x11\\xd9\\xf0\\x86\\xa7\\xbc\\x95\\xf1\\x99\\xb6a\\xcf\\xd9\\xcc\\xf7\\x15\\x87BM\\x8d\\xeb\\xd1\\xa6\\xfc\\xcaq4\\x15|.\\xd9\\xb0\\xaa\\xf3\\xfc\\xc0\\xb0\\ry>\\x9a\\xe9t>\\x07\\xbc\\x07\\xbf\\x88\\xbad\\x18\\xc7O%\\xd4\\xac5\\xcc\\xe3\\xa8\\xeeEE\\xce\\xb2\\xd8\\x0b\\x1am[\\x87 \\xb1\\xff\\xa2h\\xe9\\x0f\\xcc\\xd4\\xca\\xfc\\xf1\\x17g\\xde7\\xb3c}\\x8d\\x12G\\x9a\\xda\\xc3T\\xc9\\x8a\\xc6WDw%\\x1b\\x19\\xf2 \\xba\\xf9\\xa7\\x80\\xda\\xb6\\xe4)\\xa45\\xcb\\xbb\\xb6\\xb5Z\\x18:\\xbeZ\\x0b\\xed\\xc5z\\xf6n\\xa9\\xa8s)\\x05\\x9c\\xfb\\x17\\x15^\\xf5\\xba\\xa7 \\x14I\\x94$8\\xb1\\xa9\\xca)l\\xfd/\\xc0\\x9a\\xf6\\x8e\\x9elYQ\\xdd\\xb3e\\xd5\\xfe\\xa7\\xc0z\\x82O^o\\x14B\\xfb\\xc7\\x01\\x99\\xa1A\\xcb\\xa3Uy\\x90%\\x01i)\\x03E\\x1a\\x08\\x9a#\\x0bh_i\\xe8\\xe0\\xdc7\\x0b\\xdf\\xa6\\xc8\\xb2:\\xa7\\x86k1A\\xf9\\x15\\xae\\x95\\xd0\\xbc\\x07\\xf0\\xef(9\\x15\\xad?\\xe2\\xcf\\x1b\\xd0\\xaa}\\xd9\\xfc\\x88\\x16\\x9e\\x82J\\x92\\xe4r\\xee*\\xa8\\xd5\\xae\\xdc#A\\xed\\x1c\\xd1\\xd1\\xa4\\xf0\\xff\\xa1\\xa5\\xc8q}]W\\xf0O\\xcb\\x04\\r\\x02{=\\xe5\\x93\\x1c\\xc5\\xb6\\xfa\\xbdH\\xe0\\xa4\\xb7\\xcbo\\xfcI\\xd3Jb\\xd7O\\x05e$\\xaa+\\xac\\x19A\\xbdf\\x8eCO\\x14\\xf1)\\x89\\xda\\xd2y\\xe2ZU\\xc0Y\\xc8(\\x9d\\x1aF\\xb5:\\x98\\xcaZ\\x83\\x92y\\xcfaWg\\xe3Z\\xe5 \\x8d\\xd4\\xae\\xae\\xfc*\\xbea\\xfc\\xf5\\x89\\x7f\\xb0S\\xfe\\xbe8\\xa7\\xc8j\\x18\\xd2\\x91\\xef\\xb5\\x06\\xcaQ\\xac\\xc8\\x18\\rY<\\x1dQ\\xa5\\x95\\xb7\\xcbR\\xeb\\x87\\xcc\\xadl\\x99m)\\xd7\\xbd\\xe9F\\xc6\\xc8\\x9e\\xf5\\x1d\\x92U\\xbf\\xa3<\\xedS\\xed<\\xc8Su(\\x1c\\x1a\\xfe\\xb4t\"\\xd5\\xfc\\xb4o#E\\x18\\xe8V\\xe03\\xe4|Sj>\\xec\\xa3\\xba\\x95k\\x8d9\\xae\\xa8\\xd1\\x8e!\\xf1\\xf1\\xe1\\x7f\\xf1j\\xaf\\x8b'\n",
    "data = eval(zlib.decompress(compressed).decode())\n",
    "\n",
    "grades3 = pd.DataFrame(data[0], index=names,\n",
    "                        columns=pd.date_range(start=\"2017-02-01\", freq=\"D\",\n",
    "                                              periods=30))\n",
    "\n",
    "excuses3 = pd.DataFrame(data[1],\n",
    "                      columns=['student', 'date', 'reason']).groupby(\n",
    "    ['student', 'date']).first().reset_index()\n",
    "\n",
    "assert np.isclose(pd.Series(final_grades(grades3, excuses3).to_dict()\n",
    "                           ).sort_index(),\n",
    "                  pd.Series({'Shavon Voisin': 4.333333333333333, 'Sonja Mahon': 3.566666666666667,\n",
    "'Darell Tippett': 3.966666666666667, 'Zita Tinnin': 4.266666666666667, 'Minnie Elsey': 4.933333333333334,\n",
    "'Millie Gurrola': 3.9, 'Jackeline Virgil': 2.7, 'Sharie Brazell': 4.133333333333334, 'Cassidy Carnegie': 5.766666666666667,\n",
    "'Oda Norling': 3.0, 'Christena Thurman': 4.0, 'Marcelina Botello': 5.7, 'Jonathan Ong': 4.9, 'Diedre Shawn': 5.310344827586207,\n",
    "'Hannah Crystal': 4.8, 'Danae Hanscom': 4.0, 'Corinne Herbert': 3.6666666666666665, 'NObody': 4.066666666666666,\n",
    "'Laura Clay': 4.466666666666667, 'Lashay Percy': 4.0}).sort_index()).all()\n",
    "assert np.isclose(pd.Series(final_grades(grades, excuses).to_dict()\n",
    "                           ).sort_index(),\n",
    "                  pd.Series({'Hermione': 4.0, 'Ron': 1.5}).sort_index()).all()\n",
    "assert np.isclose(pd.Series(final_grades(grades1, excuses1).to_dict()\n",
    "                           ).sort_index(),\n",
    "                  pd.Series({'Hermione': 1.0, 'Ron': 0.5}).sort_index()).all()\n",
    "assert np.isclose(pd.Series(final_grades(grades2, excuses2)).sort_index(),\n",
    "                  pd.Series({'Hermione': 3.0, 'Ron': 2.5}).sort_index()).all()"
   ]
  },
  {
   "cell_type": "markdown",
   "metadata": {},
   "source": [
    "### #18 (5)\n",
    "Let the annual fuel supply contract of the following configuration. The buyer cannot exceed the unity as a `total sum of daily contracts` quantity (during the year). In addition, the minimum sum of contracts' quantity (during the year) should not be less than 76.5% of `total sum of daily contracts` quantity. The buyer can vary daily the `daily contracts` quantity during the year in the range from `0.0009589` to `0.002884` (per `daily contract`).\n",
    "\n",
    "Calculate and plot the area of acceptable cumulative trajectories of fuel withdrawal by the buyer. Assume 365 days a year."
   ]
  },
  {
   "cell_type": "code",
   "execution_count": null,
   "metadata": {},
   "outputs": [],
   "source": [
    "# CODE HERE"
   ]
  }
 ],
 "metadata": {
  "kernelspec": {
   "display_name": "Python 3 (ipykernel)",
   "language": "python",
   "name": "python3"
  },
  "language_info": {
   "codemirror_mode": {
    "name": "ipython",
    "version": 3
   },
   "file_extension": ".py",
   "mimetype": "text/x-python",
   "name": "python",
   "nbconvert_exporter": "python",
   "pygments_lexer": "ipython3",
   "version": "3.7.1"
  }
 },
 "nbformat": 4,
 "nbformat_minor": 2
}
