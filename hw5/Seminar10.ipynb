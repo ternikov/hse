{
 "cells": [
  {
   "cell_type": "markdown",
   "metadata": {
    "colab_type": "text",
    "id": "ras1ugqgkmZ-"
   },
   "source": [
    "# Seminar 10\n",
    "## Telegram Bot & Managerial Implications of Python Programming\n",
    "**Hint**: you can open and run this Notebook in colab.research.google.com (from Google Chrome and with your gmail account)"
   ]
  },
  {
   "cell_type": "markdown",
   "metadata": {
    "colab_type": "text",
    "id": "ABUazVn_kmaA"
   },
   "source": [
    "1. Find out [Telegram bot documentation](https://core.telegram.org/bots/api)\n",
    "2. Create your first Telegram bot\n",
    "    * Regester in Telegram via your phone number (if you're not yet registered) and log-in into your account (via phone or [web version](https://web.telegram.org/#/login) for example)\n",
    "    * Check that your app is working and then search for the special bot called **@BotFather** and run it\n",
    "    * Then, create your bot by following the @BotFather's instructions */start*, then,  */newbot*\n",
    "    * After successful creation, you will get the token of your bot. Copy it and paste in cell below\n",
    "3. Connect your bot to Python\n",
    "    * We will use the library called **pyTelegramBotAPI** [documentation here](https://github.com/eternnoir/pyTelegramBotAPI)\n",
    "        ```python\n",
    "        !pip install pyTelegramBotAPI\n",
    "        import telebot\n",
    "        ```\n",
    "    * There you can find different functions and features in what way the library documentation is correlated with Telegram API\n",
    "    * So, follow the code below"
   ]
  },
  {
   "cell_type": "code",
   "execution_count": null,
   "metadata": {
    "colab": {
     "base_uri": "https://localhost:8080/",
     "height": 157
    },
    "colab_type": "code",
    "id": "7xc_cY_akmaE",
    "outputId": "e8c04794-12ab-452f-ee52-c35124e8a22e"
   },
   "outputs": [],
   "source": [
    "!pip install pyTelegramBotAPI"
   ]
  },
  {
   "cell_type": "code",
   "execution_count": null,
   "metadata": {
    "colab": {},
    "colab_type": "code",
    "id": "N-cKkxH_kmaI"
   },
   "outputs": [],
   "source": [
    "import telebot"
   ]
  },
  {
   "cell_type": "code",
   "execution_count": null,
   "metadata": {
    "colab": {},
    "colab_type": "code",
    "id": "reRPP0jWkmaM"
   },
   "outputs": [],
   "source": [
    "# Paste your token (in quotes here)\n",
    "token = 'your_token'"
   ]
  },
  {
   "cell_type": "code",
   "execution_count": null,
   "metadata": {
    "colab": {},
    "colab_type": "code",
    "id": "XQdVhT4vkmaO"
   },
   "outputs": [],
   "source": [
    "# Save your bot in Python environment\n",
    "# If you are in Jupyter Notebook (or you are deploying your bot)\n",
    "bot = telebot.TeleBot(token)\n",
    "\n",
    "# If you are in colab google\n",
    "bot = telebot.TeleBot(token, threaded = False)"
   ]
  },
  {
   "cell_type": "markdown",
   "metadata": {
    "colab_type": "text",
    "id": "10HP87Yzkmae"
   },
   "source": [
    "---\n",
    "## Get bot info"
   ]
  },
  {
   "cell_type": "code",
   "execution_count": null,
   "metadata": {
    "colab": {
     "base_uri": "https://localhost:8080/",
     "height": 54
    },
    "colab_type": "code",
    "id": "pKVOCzLNkmag",
    "outputId": "d5a60227-68c9-496e-f077-0f842e3176a6"
   },
   "outputs": [],
   "source": [
    "print(bot.get_me())"
   ]
  },
  {
   "cell_type": "markdown",
   "metadata": {},
   "source": [
    "## Echo-bot example"
   ]
  },
  {
   "cell_type": "code",
   "execution_count": null,
   "metadata": {
    "colab": {},
    "colab_type": "code",
    "id": "kiPPVBHfkmab"
   },
   "outputs": [],
   "source": [
    "bot = telebot.TeleBot(token, threaded = False)\n",
    "\n",
    "@bot.message_handler(content_types=['text'])\n",
    "def echo(message):\n",
    "    bot.send_message(message.chat.id, message.text)\n",
    "\n",
    "\n",
    "if __name__ == '__main__':\n",
    "    bot.polling(none_stop=True)"
   ]
  },
  {
   "cell_type": "markdown",
   "metadata": {},
   "source": [
    "## Bot handler for the message and returning your Telegram chat.id (command /myid)"
   ]
  },
  {
   "cell_type": "code",
   "execution_count": null,
   "metadata": {
    "colab": {},
    "colab_type": "code",
    "id": "dlHCsmHFkman"
   },
   "outputs": [],
   "source": [
    "bot = telebot.TeleBot(token, threaded = False)\n",
    "\n",
    "@bot.message_handler(commands=['myid'])\n",
    "def mychat(message):\n",
    "    m = bot.send_message(message.chat.id, 'Hi enter your name:')\n",
    "    bot.register_next_step_handler(m, b)\n",
    "\n",
    "def b(message):\n",
    "    bot.send_message(message.chat.id, message.text + '\\nYour chat id: ' + str(message.chat.id))\n",
    "\n",
    "if __name__ == '__main__':\n",
    "    bot.polling(none_stop=True)"
   ]
  },
  {
   "cell_type": "markdown",
   "metadata": {},
   "source": [
    "## Bot inline-mode (create buttons, command /ask)"
   ]
  },
  {
   "cell_type": "code",
   "execution_count": null,
   "metadata": {
    "colab": {},
    "colab_type": "code",
    "id": "SfPc1MENudLv"
   },
   "outputs": [],
   "source": [
    "bot = telebot.TeleBot(token, threaded = False)\n",
    "\n",
    "@bot.message_handler(commands=['ask'])\n",
    "def mychat(message):\n",
    "    keyboard = telebot.types.InlineKeyboardMarkup()\n",
    "    keyboard.row(telebot.types.InlineKeyboardButton('Click here', callback_data = 'button_yes'))\n",
    "    keyboard.row(telebot.types.InlineKeyboardButton('Click not here', callback_data = 'button_no'))\n",
    "    bot.send_message(message.chat.id, 'Hi click any button!', reply_markup = keyboard)\n",
    "    \n",
    "@bot.callback_query_handler(func = lambda call: call.data == 'button_yes')\n",
    "def newbutton(query):\n",
    "    bot.send_message(query.message.chat.id, 'Yes!')\n",
    "\n",
    "@bot.callback_query_handler(func = lambda call: call.data == 'button_no')\n",
    "def newbutton(query):\n",
    "    bot.send_message(query.message.chat.id, 'No!')\n",
    "\n",
    "if __name__ == '__main__':\n",
    "    bot.polling(none_stop=True)"
   ]
  },
  {
   "cell_type": "markdown",
   "metadata": {},
   "source": [
    "## Bot inline-mode (create buttons, edit message, command /askme)"
   ]
  },
  {
   "cell_type": "code",
   "execution_count": null,
   "metadata": {
    "colab": {},
    "colab_type": "code",
    "id": "q2p0s_kexaZt"
   },
   "outputs": [],
   "source": [
    "bot = telebot.TeleBot(token, threaded = False)\n",
    "\n",
    "@bot.message_handler(commands=['askme'])\n",
    "def mychat(message):\n",
    "    keyboard = telebot.types.InlineKeyboardMarkup()\n",
    "    keyboard.row(telebot.types.InlineKeyboardButton('Click here', callback_data = 'button_yes'))\n",
    "    keyboard.row(telebot.types.InlineKeyboardButton('Click not here', callback_data = 'button_no'))\n",
    "    bot.send_message(message.chat.id, 'Hi click any button!', reply_markup = keyboard)\n",
    "    \n",
    "@bot.callback_query_handler(func = lambda call: call.data == 'button_yes')\n",
    "def newbutton(query):\n",
    "    bot.edit_message_text(chat_id = query.message.chat.id,\n",
    "                          message_id = query.message.message_id,\n",
    "                          text = 'Yes!')\n",
    "\n",
    "@bot.callback_query_handler(func = lambda call: call.data == 'button_no')\n",
    "def newbutton(query):\n",
    "    bot.edit_message_text(chat_id = query.message.chat.id,\n",
    "                          message_id = query.message.message_id,\n",
    "                          text = 'No!')\n",
    "\n",
    "if __name__ == '__main__':\n",
    "    bot.polling(none_stop=True)"
   ]
  },
  {
   "cell_type": "markdown",
   "metadata": {},
   "source": [
    "## Step-by step handler + emoji (/hello command)\n",
    "**Hint**: you can add emoji in *markdown* mode and add them to your messages. Find [the link](https://www.unicode.org/emoji/charts/full-emoji-list.html) and copy and paste related 5 symbols from the emoji from column called **Unicode**"
   ]
  },
  {
   "cell_type": "code",
   "execution_count": null,
   "metadata": {},
   "outputs": [],
   "source": [
    "bot = telebot.TeleBot(token, threaded = False)\n",
    "\n",
    "@bot.message_handler(commands = ['hello'])\n",
    "def myfunc(message):\n",
    "    keyboard = telebot.types.ReplyKeyboardMarkup(one_time_keyboard = True) # create reply keyboard\n",
    "    keyboard.row('\\U0001F332 New Year')    # button with emoji\n",
    "    keyboard.row('\\U0001F381 Celebration') # button with emoji\n",
    "    bot.send_message(message.chat.id, '*Choose one:*', \n",
    "                     reply_markup = keyboard, parse_mode = 'markdown')\n",
    "\n",
    "# handle first button and reply\n",
    "@bot.message_handler(func = lambda message: message.text == '\\U0001F332 New Year')\n",
    "def myfunc(message):\n",
    "    keyboard = telebot.types.ReplyKeyboardMarkup() # clear buttons\n",
    "    bot.send_message(message.chat.id, '*Happy New Year!*', \n",
    "                     reply_markup = keyboard, parse_mode = 'markdown')\n",
    "\n",
    "# handle second button and reply\n",
    "@bot.message_handler(func = lambda message: message.text == '\\U0001F381 Celebration')\n",
    "def myfunc(message):\n",
    "    keyboard = telebot.types.ReplyKeyboardMarkup() # clear buttons\n",
    "    bot.send_message(message.chat.id, '*Happy Celebration!*', \n",
    "                     reply_markup = keyboard, parse_mode = 'markdown')\n",
    "    \n",
    "if __name__ == '__main__':\n",
    "    bot.polling(none_stop=True)"
   ]
  },
  {
   "cell_type": "markdown",
   "metadata": {},
   "source": [
    "---"
   ]
  },
  {
   "cell_type": "markdown",
   "metadata": {},
   "source": [
    "## Something More Complex\n",
    "\n",
    "https://exmo.me/en/trade/BTC_USD\n",
    "\n",
    "https://chart.exmoney.com/ctrl/chart/history?symbol=BTC_USD&resolution=30&from=1572631569&to=1575223629"
   ]
  },
  {
   "cell_type": "markdown",
   "metadata": {},
   "source": [
    "<img style=\"float: left; height: 30.5em;\" alt = \"Jupyter Notebook\" src=\"https://raw.githubusercontent.com/ternikov/test/gh-pages/IMG_7761.TRIM.gif\">"
   ]
  },
  {
   "cell_type": "markdown",
   "metadata": {},
   "source": [
    "## Task\n",
    "Reproduce the previous logic (enter the date step-by-step: the bot returns the close price 7 days before and on due date, comparing them with the average close price for chosen period), using the combination of cells below:"
   ]
  },
  {
   "cell_type": "code",
   "execution_count": null,
   "metadata": {},
   "outputs": [],
   "source": [
    "# CONVERT TIME 1\n",
    "import time\n",
    "time.ctime(1572631569)"
   ]
  },
  {
   "cell_type": "code",
   "execution_count": null,
   "metadata": {},
   "outputs": [],
   "source": [
    "# CONVERT TIME 2\n",
    "date = '2020-11-01'\n",
    "enddate = int(time.mktime(time.strptime(date, '%Y-%m-%d')))\n",
    "startdate = int(time.mktime(time.strptime(date, '%Y-%m-%d')) - 3600*24*7)"
   ]
  },
  {
   "cell_type": "code",
   "execution_count": null,
   "metadata": {},
   "outputs": [],
   "source": [
    "# GET DATA\n",
    "import requests\n",
    "import json\n",
    "import pandas as pd\n",
    "\n",
    "sitelink = 'https://chart.exmoney.com/ctrl/chart/history?symbol=BTC_USD&resolution=30&from={}&to={}'.format(startdate, enddate)\n",
    "r = requests.get(sitelink)\n",
    "f = json.loads(r.text)\n",
    "d = pd.DataFrame(f['candles'])\n",
    "d"
   ]
  },
  {
   "cell_type": "code",
   "execution_count": null,
   "metadata": {},
   "outputs": [],
   "source": [
    "# Print start, end and average\n",
    "print(time.strftime('%d %b %Y', time.strptime(time.ctime(startdate))), round(d['c'][0], 2))\n",
    "print(time.strftime('%d %b %Y', time.strptime(time.ctime(enddate))), round(d['c'][::-1].iloc[0], 2))\n",
    "print('Average:', round(d['c'].mean(), 2))"
   ]
  },
  {
   "cell_type": "code",
   "execution_count": null,
   "metadata": {},
   "outputs": [],
   "source": [
    "# down arrow\n",
    "print('\\U0001F53B')\n",
    "\n",
    "# up arrow\n",
    "print('\\U0001F53C')"
   ]
  },
  {
   "cell_type": "markdown",
   "metadata": {},
   "source": [
    "**Hint**: you can save previous date into dictionary with the key as user's chat id (https://github.com/eternnoir/pyTelegramBotAPI/blob/master/examples/step_example.py)\n",
    "\n",
    "You can also send the chat action from the bot, e.g.:\n",
    "\n",
    "`bot.send_chat_action(message.chat.id, 'typing')`"
   ]
  }
 ],
 "metadata": {
  "colab": {
   "name": "Seminar5.ipynb",
   "provenance": [],
   "version": "0.3.2"
  },
  "kernelspec": {
   "display_name": "Python 3",
   "language": "python",
   "name": "python3"
  },
  "language_info": {
   "codemirror_mode": {
    "name": "ipython",
    "version": 3
   },
   "file_extension": ".py",
   "mimetype": "text/x-python",
   "name": "python",
   "nbconvert_exporter": "python",
   "pygments_lexer": "ipython3",
   "version": "3.7.1"
  }
 },
 "nbformat": 4,
 "nbformat_minor": 1
}
