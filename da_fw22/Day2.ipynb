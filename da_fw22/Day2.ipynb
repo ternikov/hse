{
 "cells": [
  {
   "cell_type": "markdown",
   "metadata": {},
   "source": [
    "## Tuples"
   ]
  },
  {
   "cell_type": "code",
   "execution_count": null,
   "metadata": {},
   "outputs": [],
   "source": [
    "# Create\n",
    "tup = (1, 'a')\n",
    "tup2 = (3, 2, 1, ['a', 'b', 'c'])\n",
    "tup3 = 5, 'A'\n",
    "tup4 = (3, )"
   ]
  },
  {
   "cell_type": "code",
   "execution_count": null,
   "metadata": {},
   "outputs": [],
   "source": [
    "# Try change value\n",
    "tup2[2] = \"\\U0001f600\""
   ]
  },
  {
   "cell_type": "code",
   "execution_count": null,
   "metadata": {},
   "outputs": [],
   "source": [
    "# Change this way (1)\n",
    "tup2 = list(tup2)\n",
    "tup2[2] = \"\\U0001f600\"\n",
    "tup2 = tuple(tup2)\n",
    "tup2"
   ]
  },
  {
   "cell_type": "code",
   "execution_count": null,
   "metadata": {},
   "outputs": [],
   "source": [
    "# Change this way (2)\n",
    "tup2[:2] + tuple(\"\\N{slightly smiling face}\") + tup2[3:]"
   ]
  },
  {
   "cell_type": "code",
   "execution_count": null,
   "metadata": {},
   "outputs": [],
   "source": [
    "# Assign\n",
    "a, b = 1, 3\n",
    "print(a)\n",
    "print(b)"
   ]
  },
  {
   "cell_type": "markdown",
   "metadata": {},
   "source": [
    "---\n",
    "## Dictionaries"
   ]
  },
  {
   "cell_type": "code",
   "execution_count": null,
   "metadata": {},
   "outputs": [],
   "source": [
    "# Names & Grades\n",
    "# students = ['A', 'B', 'C']\n",
    "# grades = [5, 4, 3]"
   ]
  },
  {
   "cell_type": "code",
   "execution_count": null,
   "metadata": {},
   "outputs": [],
   "source": [
    "gradebook = {\"A\": 5, \"B\": 4, \"C\": 2, \"D\": 3}"
   ]
  },
  {
   "cell_type": "code",
   "execution_count": null,
   "metadata": {},
   "outputs": [],
   "source": [
    "gradebook"
   ]
  },
  {
   "cell_type": "code",
   "execution_count": null,
   "metadata": {},
   "outputs": [],
   "source": [
    "gradebook['A']"
   ]
  },
  {
   "cell_type": "code",
   "execution_count": null,
   "metadata": {},
   "outputs": [],
   "source": [
    "gradebook['B']"
   ]
  },
  {
   "cell_type": "code",
   "execution_count": null,
   "metadata": {},
   "outputs": [],
   "source": [
    "# Change values\n",
    "gradebook['D'] = 5"
   ]
  },
  {
   "cell_type": "code",
   "execution_count": null,
   "metadata": {},
   "outputs": [],
   "source": [
    "# Add new\n",
    "gradebook['E'] = 4"
   ]
  },
  {
   "cell_type": "code",
   "execution_count": null,
   "metadata": {},
   "outputs": [],
   "source": [
    "# .get()\n",
    "gradebook.get('B')"
   ]
  },
  {
   "cell_type": "code",
   "execution_count": null,
   "metadata": {},
   "outputs": [],
   "source": [
    "gradebook.get('Student', 'No such student')"
   ]
  },
  {
   "cell_type": "code",
   "execution_count": null,
   "metadata": {},
   "outputs": [],
   "source": [
    "# All keys\n",
    "gradebook.keys()"
   ]
  },
  {
   "cell_type": "code",
   "execution_count": null,
   "metadata": {},
   "outputs": [],
   "source": [
    "# All values\n",
    "gradebook.values()"
   ]
  },
  {
   "cell_type": "code",
   "execution_count": null,
   "metadata": {},
   "outputs": [],
   "source": [
    "# View all values\n",
    "for k in gradebook:\n",
    "    print(k)"
   ]
  },
  {
   "cell_type": "code",
   "execution_count": null,
   "metadata": {},
   "outputs": [],
   "source": [
    "# Pairs of key-value (ver. 1)\n",
    "for k in gradebook:\n",
    "    print(k, '-', gradebook[k])"
   ]
  },
  {
   "cell_type": "code",
   "execution_count": null,
   "metadata": {},
   "outputs": [],
   "source": [
    "# Pairs of key-value (ver. 2)\n",
    "for k, v in gradebook.items():\n",
    "    print(k, \"-\", v)"
   ]
  },
  {
   "cell_type": "code",
   "execution_count": null,
   "metadata": {},
   "outputs": [],
   "source": [
    "# Check the dictionary content\n",
    "'D' in gradebook"
   ]
  },
  {
   "cell_type": "code",
   "execution_count": null,
   "metadata": {},
   "outputs": [],
   "source": [
    "4 in gradebook.values()"
   ]
  },
  {
   "cell_type": "code",
   "execution_count": null,
   "metadata": {},
   "outputs": [],
   "source": [
    "# Create dictionary\n",
    "my_dict = {}"
   ]
  },
  {
   "cell_type": "code",
   "execution_count": null,
   "metadata": {},
   "outputs": [],
   "source": [
    "my_dict[1] = 1\n",
    "my_dict['hello'] = 'world'"
   ]
  },
  {
   "cell_type": "code",
   "execution_count": null,
   "metadata": {},
   "outputs": [],
   "source": [
    "my_dict"
   ]
  },
  {
   "cell_type": "code",
   "execution_count": null,
   "metadata": {},
   "outputs": [],
   "source": [
    "# Approach 2\n",
    "dict([('hello','world'), ('one', 'two')])"
   ]
  },
  {
   "cell_type": "code",
   "execution_count": null,
   "metadata": {},
   "outputs": [],
   "source": [
    "students = [\"A\", \"B\", \"C\", \"D\"]\n",
    "grades = [5, 4, 2, 3]\n",
    "new_gradebook = dict(zip(students, grades))\n",
    "new_gradebook"
   ]
  },
  {
   "cell_type": "code",
   "execution_count": null,
   "metadata": {},
   "outputs": [],
   "source": [
    "# Iteration by dictionary\n",
    "for st, gr in zip(students, grades):\n",
    "    print(st, \"has grade\", gr)"
   ]
  },
  {
   "cell_type": "markdown",
   "metadata": {},
   "source": [
    "---\n",
    "## Tasks\n",
    "\n",
    "\n",
    "1. Write function countlen(words), has list of strings as input. Function returns dictionary: keys - strings from words, values — their length in symbols. For example, countlen(['hello', 'world!']) returns {'hello':5, 'world!':6}.\n",
    "2. Write function `fdict(d)`, which has dictionary `d` as input. The function returns the list, where keys and values from `d` are in the order such `[key1, value1, key2, value2]`. For example, `fdict({'Alice': 1, 'Bob': 2})` can return the list `['Alice', 1, 'Bob', 2]` or list `['Bob', 2, 'Alice', 1]`.\n",
    "3. Write function stats(words), has list of strings as input. Function returns the most frequent word (if there are several words - return all in list). For example, stats([\"qqq\", \"hello\", \"hello\", \"world\"]) returns \"hello\"; stats([\"qqq\", \"a\", \"b\", \"b\", \"a\", \"c\"]) returns ['a', 'b'].\n",
    "4. Write the function in list comprehension form which takes `dict` object as the first argument and the `list` of values as the second and returns the list with all keys (connected with these values)."
   ]
  }
 ],
 "metadata": {
  "anaconda-cloud": {},
  "kernelspec": {
   "display_name": "Python 3 (ipykernel)",
   "language": "python",
   "name": "python3"
  },
  "language_info": {
   "codemirror_mode": {
    "name": "ipython",
    "version": 3
   },
   "file_extension": ".py",
   "mimetype": "text/x-python",
   "name": "python",
   "nbconvert_exporter": "python",
   "pygments_lexer": "ipython3",
   "version": "3.7.1"
  }
 },
 "nbformat": 4,
 "nbformat_minor": 1
}
