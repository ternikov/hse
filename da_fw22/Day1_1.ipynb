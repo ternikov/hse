{
 "cells": [
  {
   "cell_type": "markdown",
   "metadata": {},
   "source": [
    "# Introduction to Python 3"
   ]
  },
  {
   "cell_type": "markdown",
   "metadata": {},
   "source": [
    "### Code execution\n",
    "\n",
    "In **Jupyter Notebook** the work is organized cell-by-cell. In each separate cell we paste the code and execute each cell by **`CTRL+ENTER`**.\n",
    "\n",
    "More: `Help` `Keyboard Shortcuts`\n",
    "\n",
    "**Hint:** all variables and previous calculations (in current session) are stored in the memory.\n",
    "\n",
    "Use `Kernel` `Reconnect` if something crashes.\n",
    "\n",
    "Use `Kernel` `Restart` if previous does not help (but you will loose your calculations)."
   ]
  },
  {
   "cell_type": "markdown",
   "metadata": {},
   "source": [
    "### Code formatting\n",
    "Two main types of cells in Jupyter Notebook:\n",
    "1. `Cell` `Code` - for displaying code\n",
    "2. `Cell` `Markdown` - for displaying formatted text"
   ]
  },
  {
   "cell_type": "markdown",
   "metadata": {},
   "source": [
    "More about `Markdown` Formatting Language:\n",
    "* [Markdown in wiki](https://en.wikipedia.org/wiki/Markdown)\n",
    "* [Markdown Cheatsheet](https://github.com/adam-p/markdown-here/wiki/Markdown-Cheatsheet)"
   ]
  },
  {
   "cell_type": "markdown",
   "metadata": {},
   "source": [
    "> **Advise**: Do not hesitate to google your errors (that Python can produce), e.g. in (https://stackoverflow.com/)"
   ]
  },
  {
   "cell_type": "markdown",
   "metadata": {},
   "source": [
    "### Data Types\n",
    "|Data type |Description |Example|\n",
    "| ---------|------------|------|\n",
    "|int (integer) |integers |1, 20, -19|\n",
    "|float |float numbers| 1.7, 12.54|\n",
    "|complex |complex numbers| 657.23e+34|\n",
    "|str (string) |strings |“Hello World”, ‘string 1’|\n",
    "|list |lists |list = [‘a’, ‘b’, ‘c’ ]|\n",
    "|tuple |tuples |tuple = (‘Laura’, 29, ‘Andrea’, 4)|\n",
    "|dictionary |dictionaries |dictionary = {‘name’ : ‘Simon’, ‘key’: ‘D007’}|"
   ]
  },
  {
   "cell_type": "markdown",
   "metadata": {},
   "source": [
    "# PART 1"
   ]
  },
  {
   "cell_type": "code",
   "execution_count": null,
   "metadata": {},
   "outputs": [],
   "source": [
    "# THIS IS A CELL WITH CODE\n",
    "# After sharp symbol [#] the code is not executed\n",
    "# Pyhton understands that lines as comments\n",
    "\n",
    "# You can add cells with ALT+ENTER (WINDOWS) or OPT+ENTER (MAC) or click on Insert in tab-pane\n",
    "# Or in Command Mode press A - to add before; press B - to add after"
   ]
  },
  {
   "cell_type": "code",
   "execution_count": null,
   "metadata": {},
   "outputs": [],
   "source": [
    "# You can create your variables and assign values in such way:\n",
    "# variable_name = value\n",
    "x = 5\n",
    "print(x)"
   ]
  },
  {
   "cell_type": "code",
   "execution_count": null,
   "metadata": {},
   "outputs": [],
   "source": [
    "# Variable names are sensitive to register (upper and lower cases are different names)\n",
    "# Also the name begins from the letter (no spaces, for delimiter only underscore symbol [_])\n",
    "X = 6\n",
    "x_1 = 7\n",
    "print('x =', x)\n",
    "print('X =', X)\n",
    "print('x_1 =', x_1)"
   ]
  },
  {
   "cell_type": "code",
   "execution_count": null,
   "metadata": {},
   "outputs": [],
   "source": [
    "# We use command print to show values that stores in the Python's memory\n",
    "# try execute the following\n",
    "print(2+2)\n",
    "print('2+2', '=', 1+3)\n",
    "print('2+2={}'.format(1+3))"
   ]
  },
  {
   "cell_type": "code",
   "execution_count": null,
   "metadata": {},
   "outputs": [],
   "source": [
    "# Check the following items with function type()\n",
    "x1 = 181\n",
    "x2 = 20.5\n",
    "x3 = 'My name is'\n",
    "print(type(x1),\n",
    "      type(x2),\n",
    "      type(x3))"
   ]
  },
  {
   "cell_type": "code",
   "execution_count": null,
   "metadata": {},
   "outputs": [],
   "source": [
    "# For some purposes numbers could be converted to strings and vice versa\n",
    "mylist = [2, '2', str(2), int('2'), float('2')]\n",
    "mylist"
   ]
  },
  {
   "cell_type": "code",
   "execution_count": null,
   "metadata": {},
   "outputs": [],
   "source": [
    "# Create list of values\n",
    "# List of numbers\n",
    "list1 = [1, 10, 2, 1]\n",
    "list2 = [1, 'hello', 5]\n",
    "list3 = list('word')\n",
    "list4 = list(range(5))\n",
    "list5 = list(range(5, 10, 2))\n",
    "\n",
    "print(list1, list2, list3, list4, list5)"
   ]
  },
  {
   "cell_type": "code",
   "execution_count": null,
   "metadata": {},
   "outputs": [],
   "source": [
    "# List concatenate\n",
    "list1 + list4"
   ]
  },
  {
   "cell_type": "code",
   "execution_count": null,
   "metadata": {},
   "outputs": [],
   "source": [
    "# Sometimes the usage of join() function helps in formatting outputs\n",
    "# symbol [\\n] stresses the newline in print output\n",
    "# Be carefull, all values in list sould be string type\n",
    "m = '\\n'.join(['2', str(3), 'Hello', 'Hello' + 'World'])\n",
    "print(m)"
   ]
  },
  {
   "cell_type": "code",
   "execution_count": null,
   "metadata": {},
   "outputs": [],
   "source": [
    "# List extend (overwrites the object)\n",
    "list1.extend(list4)\n",
    "list1"
   ]
  },
  {
   "cell_type": "code",
   "execution_count": null,
   "metadata": {},
   "outputs": [],
   "source": [
    "# List append (overwrites the object)\n",
    "list2.append('world')\n",
    "list4.append(list5)\n",
    "\n",
    "print(list2, list4)"
   ]
  },
  {
   "cell_type": "code",
   "execution_count": null,
   "metadata": {},
   "outputs": [],
   "source": [
    "# List sort (on homogeneous lists)\n",
    "list1.sort()\n",
    "list3.sort(reverse = True)\n",
    "\n",
    "print(list1, list3)"
   ]
  },
  {
   "cell_type": "code",
   "execution_count": null,
   "metadata": {},
   "outputs": [],
   "source": [
    "# List subset\n",
    "print(list5)\n",
    "list5[0]"
   ]
  },
  {
   "cell_type": "code",
   "execution_count": null,
   "metadata": {},
   "outputs": [],
   "source": [
    "# List subset\n",
    "print(list4)\n",
    "print(\n",
    "    list4[1:3],\n",
    "    list4[2:3],\n",
    "    list4[1:6:2]\n",
    ")"
   ]
  },
  {
   "cell_type": "code",
   "execution_count": null,
   "metadata": {},
   "outputs": [],
   "source": [
    "# List index\n",
    "print(list1)\n",
    "list1.index(1)"
   ]
  },
  {
   "cell_type": "code",
   "execution_count": null,
   "metadata": {},
   "outputs": [],
   "source": [
    "# Condition 1\n",
    "x = 5\n",
    "if x >= 5:\n",
    "    print('yes')\n",
    "else: \n",
    "    print('no')"
   ]
  },
  {
   "cell_type": "code",
   "execution_count": null,
   "metadata": {},
   "outputs": [],
   "source": [
    "# Condition 1 (same)\n",
    "x = 5\n",
    "print('yes') if x >= 5 else print('no')"
   ]
  },
  {
   "cell_type": "code",
   "execution_count": null,
   "metadata": {},
   "outputs": [],
   "source": [
    "# Condition 2 (with input)\n",
    "a = int(input())\n",
    "if a < -5:\n",
    "    print('Low')\n",
    "elif -5 <= a <= 5:\n",
    "    print('Mid')\n",
    "else:\n",
    "    print('High')"
   ]
  },
  {
   "cell_type": "code",
   "execution_count": null,
   "metadata": {},
   "outputs": [],
   "source": [
    "'''\n",
    "* Condition 2 (with debugging)\n",
    "If input not integer\n",
    "'''\n",
    "try: \n",
    "    a = int(input())\n",
    "    if a < -5:\n",
    "        print('Low')\n",
    "    elif -5 <= a <= 5:\n",
    "        print('Mid')\n",
    "    else:\n",
    "        print('High')\n",
    "except:\n",
    "    print('Enter the number!')"
   ]
  },
  {
   "cell_type": "code",
   "execution_count": null,
   "metadata": {},
   "outputs": [],
   "source": [
    "# In Jupyter Notebook you can use followng command\n",
    "%whos"
   ]
  },
  {
   "cell_type": "markdown",
   "metadata": {},
   "source": [
    "---"
   ]
  },
  {
   "cell_type": "markdown",
   "metadata": {},
   "source": [
    "## Tasks (1st part)"
   ]
  },
  {
   "cell_type": "markdown",
   "metadata": {},
   "source": [
    "**Task 1**\n",
    "\n",
    "Change the code to get the **mean** value of list **s** instead the sum\n",
    "```\n",
    "s = list(range(1,5))\n",
    "sum(s)\n",
    "```\n",
    "---\n",
    "**Task 2**\n",
    "\n",
    "Create the user **input()**. If you execute a cell you will be able to type your *name* (e.g. Ivan) and then get the **print()** output: \n",
    "\n",
    "`My name is: Ivan`\n",
    "\n",
    "---\n",
    "**Task 3**\n",
    "\n",
    "Write a code with input() of integer number, which checks the number as *odd* or *even*. Example:\n",
    "```\n",
    "Input:\n",
    "Enter the number: 24\n",
    "\n",
    "Output:\n",
    "24 is even\n",
    "```\n",
    "---\n",
    "**Task 4**\n",
    "\n",
    "Write a code cell that takes as input three numbers (one-by-one), and returns the **smallest** of the three (without **min()** function).\n",
    "\n",
    "---\n",
    "**Task 5**\n",
    "\n",
    "Write the code cell that asks the user for a string and print out whether this string is a palindrome or not. (A palindrome is a string that reads the same forwards and backwards.)"
   ]
  },
  {
   "cell_type": "markdown",
   "metadata": {},
   "source": [
    "# PART 2"
   ]
  },
  {
   "cell_type": "markdown",
   "metadata": {},
   "source": [
    "## Loops\n",
    "### `for` loop"
   ]
  },
  {
   "cell_type": "code",
   "execution_count": null,
   "metadata": {},
   "outputs": [],
   "source": [
    "for i in range(1,5):\n",
    "    print(i)"
   ]
  },
  {
   "cell_type": "code",
   "execution_count": null,
   "metadata": {},
   "outputs": [],
   "source": [
    "# Same Loop (List Comprehension form)\n",
    "[print(i) for i in range(1,5)]"
   ]
  },
  {
   "cell_type": "code",
   "execution_count": null,
   "metadata": {},
   "outputs": [],
   "source": [
    "# Example 1\n",
    "var = ['a', 'b', 'c', 'd']\n",
    "for i in var:\n",
    "    print(i)"
   ]
  },
  {
   "cell_type": "code",
   "execution_count": null,
   "metadata": {},
   "outputs": [],
   "source": [
    "# Example 2\n",
    "for i in var:\n",
    "    print(var.index(i))"
   ]
  },
  {
   "cell_type": "code",
   "execution_count": null,
   "metadata": {},
   "outputs": [],
   "source": [
    "# Example 2 (same with length)\n",
    "for i in range(0, len(var)):\n",
    "    print(i, end = ' ')"
   ]
  },
  {
   "cell_type": "code",
   "execution_count": null,
   "metadata": {},
   "outputs": [],
   "source": [
    "# Example 3 (create list)\n",
    "newlist = list()\n",
    "for i in var:\n",
    "    newlist.append(var.index(i))\n",
    "    \n",
    "newlist"
   ]
  },
  {
   "cell_type": "markdown",
   "metadata": {},
   "source": [
    "### `for` loop in 'List Comprehension' notation"
   ]
  },
  {
   "cell_type": "code",
   "execution_count": null,
   "metadata": {},
   "outputs": [],
   "source": [
    "# Example 4 (create list: same)\n",
    "newlist = [var.index(i) for i in var]\n",
    "newlist"
   ]
  },
  {
   "cell_type": "code",
   "execution_count": null,
   "metadata": {},
   "outputs": [],
   "source": [
    "# List index (find all)\n",
    "print(list1)\n",
    "[i for i, x in enumerate(list1) if x == 1]"
   ]
  },
  {
   "cell_type": "markdown",
   "metadata": {},
   "source": [
    "### `while` loop"
   ]
  },
  {
   "cell_type": "code",
   "execution_count": null,
   "metadata": {},
   "outputs": [],
   "source": [
    "# While loop\n",
    "i = 10\n",
    "j = 40\n",
    "\n",
    "while (- i + j) // 2 > 9:\n",
    "    print(i, j, (- i + j) // 2)\n",
    "    j -= 1\n",
    "    i += 1"
   ]
  },
  {
   "cell_type": "code",
   "execution_count": null,
   "metadata": {},
   "outputs": [],
   "source": [
    "# While with boolean\n",
    "b = False\n",
    "a = 2\n",
    "\n",
    "while not b:\n",
    "    a *= 5\n",
    "    print(a)\n",
    "    if a % 50 == 0:\n",
    "        b = True"
   ]
  },
  {
   "cell_type": "markdown",
   "metadata": {},
   "source": [
    "## Tasks (2nd Part)\n",
    "**Task 1**\n",
    "\n",
    "Rewrite and execute the loop in compact form (**one** line of code instead of 5)\n",
    "```python\n",
    "y = list()\n",
    "x = 'Student'\n",
    "for i in range(1,6):\n",
    "    y.append(x + str(i))\n",
    "y\n",
    "```\n",
    "---\n",
    "**Task 2**\n",
    "\n",
    "Make **for** loop instead of **while** (Hint: *rjust* and *ljust* - for concatenating strings several times from right and left)\n",
    "```python\n",
    "n = 7\n",
    "while i < n//2 + 1:\n",
    "    print(('.|.'*i).rjust((3*n-2)//2, '-') + '.|.' + ('.|.'*i).ljust((3*n-2)//2, '-'))\n",
    "    i += 1\n",
    "```\n",
    "---\n",
    "**Task 3**\n",
    "\n",
    "Write code that asks the user how many Fibonnaci numbers to generate and then generates them (try to create separate list with two first values and iterate with sum of indexes [i] and [i-1]). Hint: The Fibonnaci seqence is a sequence of numbers where the next number in the sequence is the sum of the previous two numbers in the sequence. The sequence looks like this: 1, 1, 2, 3, 5, 8, 13, …\n",
    "\n",
    "---\n",
    "**Task 4**\n",
    "\n",
    "Rewrite **for** loop with **while** cycle:\n",
    "```\n",
    "for i in range(5, 1, -1):\n",
    "    if i % 2 == 0: print(i)\n",
    "```\n",
    "---\n",
    "**Task 5**\n",
    "\n",
    "Code a program that asks the user for a string input containing multiple words. Print back to the user lines of how many times symbols are appeared in the string (hint: use list() option to string and functions set() and .count()). For example:\n",
    "```\n",
    "input: Hello to the world\n",
    "output:\n",
    " : 3\n",
    "H: 1\n",
    "d: 1\n",
    "e: 2\n",
    "h: 1\n",
    "l: 3\n",
    "o: 3\n",
    "r: 1\n",
    "t: 2\n",
    "w: 1\n",
    "```\n",
    "---\n",
    "\n",
    "**Task 6**\n",
    "\n",
    "Write a code to count the number of elements in list: e.g you have list `z = ['apple', 'apple', 'banana', 'apple', 'banana']`. The sample output of program is (hint: try use count() option applied to list and set() funcion to execute unique values):\n",
    "```\n",
    "apple: 3\n",
    "banana: 2\n",
    "```\n",
    "---\n",
    "\n",
    "**Task 7**\n",
    "\n",
    "Write a code that asks the user for a string input containing multiple words (separated with spaces). Print back to the user the same string, except with the words in backwards order (hint: use split() option to list and use the while loop). For example:\n",
    "```\n",
    "input: Hello to the world\n",
    "output: world the to Hello\n",
    "```"
   ]
  },
  {
   "cell_type": "markdown",
   "metadata": {},
   "source": [
    "# PART 3"
   ]
  },
  {
   "cell_type": "markdown",
   "metadata": {},
   "source": [
    "## Functions\n",
    "Functions are used to shorten your code. For example, you can create function named `sqrt` that calculates the sqare root as following:\n",
    "\n",
    "```\n",
    "def sqrt(value):\n",
    "    return value ** 0.5\n",
    "```\n",
    "\n",
    "And call it somehow like `sqrt(4)`, that prints 2.0"
   ]
  },
  {
   "cell_type": "code",
   "execution_count": null,
   "metadata": {},
   "outputs": [],
   "source": [
    "# Be aware that Python by default does not have function called \"sqrt\"\n",
    "sqrt(4)"
   ]
  },
  {
   "cell_type": "code",
   "execution_count": null,
   "metadata": {},
   "outputs": [],
   "source": [
    "# Define own\n",
    "def sqrt(value):\n",
    "    return value ** 0.5"
   ]
  },
  {
   "cell_type": "markdown",
   "metadata": {},
   "source": [
    "### Task\n",
    "\n",
    "Create `mean` function, which will calculate the mean value of the list, containing numbers."
   ]
  },
  {
   "cell_type": "code",
   "execution_count": null,
   "metadata": {},
   "outputs": [],
   "source": [
    "# Than write the function named \"column(table, i)\", which calculates the i-th column in table"
   ]
  },
  {
   "cell_type": "code",
   "execution_count": null,
   "metadata": {},
   "outputs": [],
   "source": [
    "# Table (in form of two sublists)\n",
    "table = [[1, 2, 3],\n",
    "         [5, 10, 15]]"
   ]
  },
  {
   "cell_type": "code",
   "execution_count": null,
   "metadata": {},
   "outputs": [],
   "source": [
    "# First row\n",
    "table[0]"
   ]
  },
  {
   "cell_type": "code",
   "execution_count": null,
   "metadata": {},
   "outputs": [],
   "source": [
    "# Second row & third element\n",
    "table[1][2]"
   ]
  },
  {
   "cell_type": "code",
   "execution_count": null,
   "metadata": {},
   "outputs": [],
   "source": [
    "# Last row\n",
    "table[-1]"
   ]
  },
  {
   "cell_type": "code",
   "execution_count": null,
   "metadata": {},
   "outputs": [],
   "source": [
    "# Our function\n",
    "def column(table, i):\n",
    "    return [row[i] for row in table]"
   ]
  },
  {
   "cell_type": "code",
   "execution_count": null,
   "metadata": {},
   "outputs": [],
   "source": [
    "# Check it with \"assert\" function (returns nothing if True and error if False)\n",
    "assert column([[1, 2, 3], [5, 10, 15]], 1) == [2, 10]"
   ]
  }
 ],
 "metadata": {
  "anaconda-cloud": {},
  "kernelspec": {
   "display_name": "Python 3 (ipykernel)",
   "language": "python",
   "name": "python3"
  },
  "language_info": {
   "codemirror_mode": {
    "name": "ipython",
    "version": 3
   },
   "file_extension": ".py",
   "mimetype": "text/x-python",
   "name": "python",
   "nbconvert_exporter": "python",
   "pygments_lexer": "ipython3",
   "version": "3.7.1"
  }
 },
 "nbformat": 4,
 "nbformat_minor": 1
}
