{
 "cells": [
  {
   "cell_type": "markdown",
   "metadata": {},
   "source": [
    "Regular expressions\n",
    "=="
   ]
  },
  {
   "cell_type": "code",
   "execution_count": null,
   "metadata": {},
   "outputs": [],
   "source": [
    "# import library\n",
    "import re"
   ]
  },
  {
   "cell_type": "markdown",
   "metadata": {},
   "source": [
    "*Task*. Count how many times name Andrey was mentioned in first book *War and peace*."
   ]
  },
  {
   "cell_type": "code",
   "execution_count": null,
   "metadata": {},
   "outputs": [],
   "source": [
    "# load text\n",
    "import requests as rq\n",
    "text = rq.get(\"http://az.lib.ru/t/tolstoj_lew_nikolaewich/text_0040.shtml\").text"
   ]
  },
  {
   "cell_type": "code",
   "execution_count": null,
   "metadata": {},
   "outputs": [],
   "source": [
    "# lookup\n",
    "pattern = \"Андрей|Андрея|Андрею|Андрея|Андреем|Андрее\"\n",
    "result = re.findall(pattern, text)"
   ]
  },
  {
   "cell_type": "code",
   "execution_count": null,
   "metadata": {},
   "outputs": [],
   "source": [
    "# count by groups\n",
    "from collections import Counter\n",
    "Counter(result)"
   ]
  },
  {
   "cell_type": "code",
   "execution_count": null,
   "metadata": {},
   "outputs": [],
   "source": [
    "# add some magic\n",
    "pattern = \"Андре[йяюем]+\"\n",
    "result = re.findall(pattern, text)\n",
    "Counter(result)"
   ]
  },
  {
   "cell_type": "markdown",
   "metadata": {},
   "source": [
    "Pattern\n",
    "==\n"
   ]
  },
  {
   "cell_type": "code",
   "execution_count": null,
   "metadata": {},
   "outputs": [],
   "source": [
    "# looking for exact match\n",
    "text = \"abc abbc abc1bc 123\"\n",
    "pattern = \"abc\"\n",
    "re.findall(pattern, text)"
   ]
  },
  {
   "cell_type": "code",
   "execution_count": null,
   "metadata": {},
   "outputs": [],
   "source": [
    "# looking for characters a,b,c\n",
    "# we define a symbol class\n",
    "pattern = \"[abc]\"\n",
    "re.findall(pattern, text)"
   ]
  },
  {
   "cell_type": "code",
   "execution_count": null,
   "metadata": {},
   "outputs": [],
   "source": [
    "# addind the condition - 1 symbol or more\n",
    "pattern = \"[abc]+\"\n",
    "re.findall(pattern, text)"
   ]
  },
  {
   "cell_type": "markdown",
   "metadata": {},
   "source": [
    "### Class\n",
    "Class should be defined in sqare brackets\n",
    "**[abc]** – means characters a,b,c  \n",
    "**[a-z]** – means characters from a till z  \n",
    "**[0-9]** or **[\\d]** – means characters from 0 till 9  \n",
    "**[\\s]** – space\n",
    "\n",
    "If you need to add a minus symbol - then add it to the beginning or to the end:  \n",
    "**[abc-] [-abc] [0-9-] [a-z0-9-] [-0-9a-z]**"
   ]
  },
  {
   "cell_type": "markdown",
   "metadata": {},
   "source": [
    "**.** – dot is any symbol except new line. If you need to add dot, than add a backslash.  \n",
    "**(?s)** at the beginning means that dot symbol includes new line.   \n",
    "dot should not be placed at square brackets."
   ]
  },
  {
   "cell_type": "markdown",
   "metadata": {},
   "source": [
    "symbol ^ at the beginning of class means negative - everything except those in brackets:  \n",
    "**[^abc] [^\\d]**  \n",
    "**[\\S]** - any except space"
   ]
  },
  {
   "cell_type": "markdown",
   "metadata": {},
   "source": [
    "### Quantifier\n",
    "**{n}** - exactly n repetition  \n",
    "**{n,m}** - from n till m repetition  \n",
    "**{n,}** - n repetition or more\n",
    "**{,m}** - no moree than m repetition  \n",
    "**+** => one or more {1,}  \n",
    "**\\*** => zero or more {0,}  \n",
    "**?** => zero or one {0,1}  "
   ]
  },
  {
   "cell_type": "code",
   "execution_count": null,
   "metadata": {},
   "outputs": [],
   "source": [
    "text = \"1, 12, 123, 1234, 12345\"\n",
    "pattern = \"[0-9]{4}\"\n",
    "re.findall(pattern, text)"
   ]
  },
  {
   "cell_type": "code",
   "execution_count": null,
   "metadata": {},
   "outputs": [],
   "source": [
    "pattern = \"[0-9]{2,4}\"\n",
    "re.findall(pattern, text)"
   ]
  },
  {
   "cell_type": "code",
   "execution_count": null,
   "metadata": {},
   "outputs": [],
   "source": [
    "pattern = \"[0-9]{2,}\"\n",
    "re.findall(pattern, text)"
   ]
  },
  {
   "cell_type": "code",
   "execution_count": null,
   "metadata": {},
   "outputs": [],
   "source": [
    "pattern = \"[0-9]{,4}\"\n",
    "re.findall(pattern, text)"
   ]
  },
  {
   "cell_type": "code",
   "execution_count": null,
   "metadata": {},
   "outputs": [],
   "source": [
    "pattern = \"[0-9]{1,4}\"\n",
    "re.findall(pattern, text)"
   ]
  },
  {
   "cell_type": "markdown",
   "metadata": {},
   "source": [
    "### Greediness\n",
    "Any quantifier by defaultis greedy and take as many repetitions as he could by pattern.   \n",
    "to disable greediness place **?** after quantifier."
   ]
  },
  {
   "cell_type": "code",
   "execution_count": null,
   "metadata": {},
   "outputs": [],
   "source": [
    "text = \"Some smaple text - with punctuation, and the other symbols.\"\n",
    "pattern = \"[a-z]{3,}\"\n",
    "re.findall(pattern, text)"
   ]
  },
  {
   "cell_type": "code",
   "execution_count": null,
   "metadata": {},
   "outputs": [],
   "source": [
    "pattern = \"[a-z]{3,}?\"\n",
    "re.findall(pattern, text)"
   ]
  },
  {
   "cell_type": "code",
   "execution_count": null,
   "metadata": {},
   "outputs": [],
   "source": [
    "pattern = \"[a-z]{3,}?[\\.,]+\"\n",
    "re.findall(pattern, text)"
   ]
  },
  {
   "cell_type": "markdown",
   "metadata": {},
   "source": [
    "### Groups\n",
    "\n",
    "If you need to split parts of results to separate elements - use round brackets.  \n",
    "If the result of this group do not need then place **?:** just after the opening round bracket."
   ]
  },
  {
   "cell_type": "code",
   "execution_count": null,
   "metadata": {},
   "outputs": [],
   "source": [
    "pattern = \"([a-z]{3,}?)([\\.,]+)\"\n",
    "re.findall(pattern, text)"
   ]
  },
  {
   "cell_type": "code",
   "execution_count": null,
   "metadata": {},
   "outputs": [],
   "source": [
    "pattern = \"([a-z]{3,}?)(?:[\\.,]+)\"\n",
    "re.findall(pattern, text)"
   ]
  },
  {
   "cell_type": "markdown",
   "metadata": {},
   "source": [
    "### Online debug\n",
    "\n",
    "[Example](https://pythex.org/?regex=(%5B%D0%B0-%D1%8F%5Cn%5D%7B3%2C%7D%3F)(%3F%3A%5B%5C.%2C%5D%2B)&test_string=%D0%9D%D0%B0%20%D0%B4%D0%B2%D0%BE%0A%D1%80%D0%B5%20-%20%D1%82%0A%D1%80%D0%B0%D0%B2%D0%B0%2C%20%D0%BD%D0%B0%20%D1%82%D1%80%0A%D0%B0%D0%B2%D0%B5%20-%20%D0%B4%D1%80%D0%BE%0A%D0%B2%D0%B0.&ignorecase=0&multiline=0&dotall=0&verbose=0)\n"
   ]
  },
  {
   "cell_type": "markdown",
   "metadata": {},
   "source": [
    "### Additional functions of re\n",
    "\n",
    "* [match](https://pyneng.readthedocs.io/ru/latest/book/15_module_re/match.html) - lookup the match from the beginning\n",
    "* [search](https://pyneng.readthedocs.io/ru/latest/book/15_module_re/search.html) - find the first match\n",
    "* [findall](https://pyneng.readthedocs.io/ru/latest/book/15_module_re/findall.html) - serach all the matches. Returns all matches as list.\n",
    "* [compile](https://pyneng.readthedocs.io/ru/latest/book/15_module_re/compile.html) - compiles the regular expression. To this object you can apply other methods.\n",
    "* [fullmatch](https://pyneng.readthedocs.io/ru/latest/book/15_module_re/fullmatch.html) - all string exact \n",
    "\n",
    "You can also use:\n",
    "\n",
    "* [re.sub](https://pyneng.readthedocs.io/ru/latest/book/15_module_re/sub.html) - to replace\n",
    "* [re.split](https://pyneng.readthedocs.io/ru/latest/book/15_module_re/split.html) - to split"
   ]
  },
  {
   "cell_type": "markdown",
   "metadata": {},
   "source": [
    "### Task\n",
    "\n",
    "Create a phonebook based on [HSE staff page](https://www.hse.ru/org/persons).  \n",
    "Create dataframe with columns *name, phone, email*."
   ]
  },
  {
   "cell_type": "code",
   "execution_count": null,
   "metadata": {},
   "outputs": [],
   "source": [
    "# load page\n",
    "text = rq.get('https://www.hse.ru/org/persons').text"
   ]
  },
  {
   "cell_type": "code",
   "execution_count": null,
   "metadata": {},
   "outputs": [],
   "source": [
    "# extract persons\n",
    "pattern='(?s)<div class=\"post__content post__content_person\">(.*?)<div class=\"post person\"'\n",
    "persons = re.findall(pattern,text)"
   ]
  },
  {
   "cell_type": "code",
   "execution_count": null,
   "metadata": {},
   "outputs": [],
   "source": [
    "data = []\n",
    "# by each person\n",
    "for person in persons:\n",
    "    # extract phone\n",
    "    phones=(\",\".join(re.findall('<span>([^<]*)</span>', person)))\n",
    "    digits=re.findall('([0-9+*,])',phones)\n",
    "    phone=''.join(digits)\n",
    "    \n",
    "    # name\n",
    "    name = ''.join(re.findall('<div class=\"g-pic person-avatar-small2\" title=\"(.*?)\"', person))\n",
    "\n",
    "    # email\n",
    "    email = '#'.join(re.findall('data-at=\\'\\[(.*?)\\]\\'', person)).replace('\"','').replace(',','').replace('-at-','@').replace('#',',')\n",
    "    \n",
    "    # adding to a list\n",
    "    data.append({'name':name, 'phone':phone, 'email': email})\n",
    "    \n",
    "# convert to dataframe\n",
    "pd.DataFrame(data).head()\n"
   ]
  }
 ],
 "metadata": {
  "kernelspec": {
   "display_name": "Python 3 (ipykernel)",
   "language": "python",
   "name": "python3"
  },
  "language_info": {
   "codemirror_mode": {
    "name": "ipython",
    "version": 3
   },
   "file_extension": ".py",
   "mimetype": "text/x-python",
   "name": "python",
   "nbconvert_exporter": "python",
   "pygments_lexer": "ipython3",
   "version": "3.7.1"
  }
 },
 "nbformat": 4,
 "nbformat_minor": 4
}
